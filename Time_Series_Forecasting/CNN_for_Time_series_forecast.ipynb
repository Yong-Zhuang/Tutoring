{
  "nbformat": 4,
  "nbformat_minor": 0,
  "metadata": {
    "colab": {
      "name": "CNN for Time series forecast",
      "provenance": [],
      "collapsed_sections": [],
      "include_colab_link": true
    },
    "kernelspec": {
      "name": "python3",
      "display_name": "Python 3"
    }
  },
  "cells": [
    {
      "cell_type": "markdown",
      "metadata": {
        "id": "view-in-github",
        "colab_type": "text"
      },
      "source": [
        "<a href=\"https://colab.research.google.com/github/Yong-Zhuang/Tutoring/blob/main/Time_Series_Forecasting/CNN_for_Time_series_forecast.ipynb\" target=\"_parent\"><img src=\"https://colab.research.google.com/assets/colab-badge.svg\" alt=\"Open In Colab\"/></a>"
      ]
    },
    {
      "cell_type": "markdown",
      "metadata": {
        "id": "_JfzwiDRJuIp"
      },
      "source": [
        "refer to https://towardsdatascience.com/convolutional-neural-networks-from-the-ground-up-c67bb41454e1\n",
        "\n",
        "## Convolutional Neural Networks\n",
        "Convolutional neural networks are deep artificial neural networks that are used primarily to classify images (e.g. name what they see), cluster them by similarity (photo search), and perform object recognition within scenes. They are algorithms that can identify faces, individuals, street signs, and many other aspects of visual data."
      ]
    },
    {
      "cell_type": "markdown",
      "metadata": {
        "id": "GfCH-TRI2tHr"
      },
      "source": [
        "\n",
        "![alt text](https://cdn-images-1.medium.com/max/1600/1*Ji5QhY9QXBlpNNLH4qAcNA.png =780x)"
      ]
    },
    {
      "cell_type": "markdown",
      "metadata": {
        "id": "dVjxD19TvOmD"
      },
      "source": [
        "## How Convolutional Neural Networks Work\n",
        "\n",
        "### Convolutions\n",
        "\n",
        "CNN’s make use of filters (also known as kernels), to detect what features, such as edges, are present throughout an image. A filter is just a matrix of values, called weights, that are trained to detect specific features. The filter moves over each part of the image to check if the feature it is meant to detect is present. To provide a value representing how confident it is that a specific feature is present, the filter carries out a convolution operation, which is an element-wise product and sum between two matrices.\n",
        "\n",
        "\n",
        "![alt text](https://cdn-images-1.medium.com/max/1600/0*dRD6PhKOnnCIhz15.jpg =450x)\n",
        "\n",
        "\n",
        "When the feature is present in part of an image, the convolution operation between the filter and that part of the image results in a real number with a high value. If the feature is not present, the resulting value is low.\n",
        "\n",
        "In the following example, a filter that is in charge of checking for right-hand curves is passed over a part of the image. Since that part of the image contains the same curve that the filter is looking for, the result of the convolution operation is a large number (6600).\n",
        "\n",
        "![alt text](https://cdn-images-1.medium.com/max/1600/1*rrqwVqUBLgyK6PFWqSI7lA.png =650x)\n",
        "\n",
        "But when that same filter is passed over a part of the image with a considerably different set of edges, the convolution’s output is small, meaning that there was no strong presence of a right hand curve.\n",
        "\n",
        "![alt text](https://cdn-images-1.medium.com/max/1600/1*ev0jRDBf0JwPS8C3VuYGHg.png =650x)\n",
        "\n",
        "The result of passing this filter over the entire image is an output matrix that stores the convolutions of this filter over various parts of the image. The filter must have the same number of channels as the input image so that the element-wise multiplication can take place. For instance, if the input image contains three channels (RGB, for example), then the filter must contain three channels as well.\n",
        "\n",
        "The convolution of a filter over a 2D image:\n",
        "\n",
        "![alt text](http://deeplearning.net/software/theano/_images/numerical_no_padding_no_strides.gif =350x)\n",
        "\n",
        "The light blue grid is called the input feature map. A kernel (filter) of value\n",
        "\n",
        "\\begin{pmatrix}\n",
        "0 & 1 & 2 \\\\\n",
        "2 & 2 & 0 \\\\\n",
        "0 & 1 & 2\n",
        "\\end{pmatrix}\n",
        "\n",
        "Additionally, a filter can be slid over the input image at varying intervals, using a stride value. The stride value dictates by how much the filter should move at each step. The output dimensions of a strided convolution can be calculated using the following equation:\n",
        "\n",
        "Accepts a volume of size $W_1×H_1×D_1$\n",
        "Requires four hyperparameters:\n",
        "1. Number of filters $K$,\n",
        "2. their spatial extent $F$,\n",
        "3. the stride $S$,\n",
        "4. the amount of zero padding $P$.\n",
        "\n",
        "Produces a volume of size $W_2×H_2×D_2$ where:\n",
        "1. $W_2=\\left\\lfloor \\frac{W_1 + 2P - F}{s} \\right\\rfloor + 1$\n",
        "2. $H_2=\\left\\lfloor \\frac{H_1 + 2P - F}{s} \\right\\rfloor + 1$ \n",
        "3. $D_2=K$\n",
        "\n",
        "For instance, here is a $3 \\times 3$ kernel applied to a $5 \\times 5$ input padded with a $1 \\times 1$ border of zeros using $2 \\times 2$ strides\n",
        "\n",
        "![alt text](http://deeplearning.net/software/theano/_images/numerical_padding_strides.gif =380x)"
      ]
    },
    {
      "cell_type": "markdown",
      "metadata": {
        "id": "JGQHuZE2uM9C"
      },
      "source": [
        "### General pooling\n",
        "2D average pooling and max pooling, used in CNNs to spatially downsample image tensors.\n",
        "\n",
        "![alt text](http://cs231n.github.io/assets/cnn/pool.jpeg =300x)    ![alt text](http://cs231n.github.io/assets/cnn/maxpool.jpeg =550x)"
      ]
    },
    {
      "cell_type": "markdown",
      "metadata": {
        "id": "VR4BzCq7Lq2-"
      },
      "source": [
        "## 1D Convolutional Neural Networks\n",
        "\n",
        "1D convolutional neural networks can be competitive with RNNs on certain sequence-processing problems, usually at a considerably cheaper computational cost. Recently, 1D convolutional neural networks, typically used with dilated kernels, have been used with great success for audio generation and machine translation. In addition to these specific successes, it has long been known that small 1D convolutional neural networks can offer a fast alternative to RNNs for timeseries forecasting."
      ]
    },
    {
      "cell_type": "markdown",
      "metadata": {
        "id": "4Ho-m9DaFULo"
      },
      "source": [
        "## How 1D convolution works: \n",
        "Each output timestep is obtained from a temporal patch in the input sequence.\n",
        "\n",
        "\n",
        "![alt text](https://cdn-images-1.medium.com/max/800/0*qJC2UjY0CwaGdRbD.jpg =350x)\n",
        "\n",
        "Such 1D convolution layers can recognize local patterns in a sequence. Because the same input transformation is performed on every patch, a pattern learned at a certain time step in a time series can later be recognized at a different time step, making 1D CNNs translation invariant (for temporal translations). \n",
        "\n",
        "### Pooling\n",
        "\n",
        "Extract 1D patches (subsequences) from an input and outputting the maximum value (max pooling) or average value (average pooling). Just as with 2D CNNs, this is used for reducing the length of 1D inputs (subsampling)."
      ]
    },
    {
      "cell_type": "markdown",
      "metadata": {
        "id": "rcOAx4SOHSX-"
      },
      "source": [
        "## Sample Code"
      ]
    },
    {
      "cell_type": "code",
      "metadata": {
        "id": "MwazwwchSYdt",
        "colab": {
          "base_uri": "https://localhost:8080/",
          "height": 35
        },
        "outputId": "2e68a985-8318-4de8-a47b-5c1a0bcff6ef"
      },
      "source": [
        "from numpy import array\n",
        "from keras.models import Sequential\n",
        "from keras.layers import Dense\n",
        "from keras.layers import Flatten\n",
        "from keras.layers.convolutional import Conv1D\n",
        "from keras.layers.convolutional import MaxPooling1D\n",
        "from keras.callbacks import ModelCheckpoint\n",
        "from sklearn.preprocessing import MinMaxScaler\n",
        "import math\n",
        "import numpy as np\n",
        "from sklearn.metrics import mean_squared_error\n",
        "import pandas as pd\n",
        "import matplotlib.pylab as plt\n",
        "%matplotlib inline\n",
        "from matplotlib.pylab import rcParams\n",
        "rcParams['figure.figsize'] = 15, 6\n",
        "rcParams['axes.titlesize'] = 'xx-large'\n",
        "rcParams['axes.titleweight'] = 'bold'\n",
        "rcParams[\"legend.loc\"] = 'upper left'"
      ],
      "execution_count": null,
      "outputs": [
        {
          "output_type": "stream",
          "text": [
            "Using TensorFlow backend.\n"
          ],
          "name": "stderr"
        }
      ]
    },
    {
      "cell_type": "markdown",
      "metadata": {
        "id": "D5upx2uGWUuZ"
      },
      "source": [
        "## Loading and Handling Time Series in Pandas"
      ]
    },
    {
      "cell_type": "code",
      "metadata": {
        "id": "C5VEAv30TDTo",
        "colab": {
          "base_uri": "https://localhost:8080/",
          "height": 520
        },
        "outputId": "6547af84-e4c8-406a-95bf-75ebc0537a06"
      },
      "source": [
        "url = 'https://raw.githubusercontent.com/AileenNielsen/TimeSeriesAnalysisWithPython/master/data/AirPassengers.csv'\n",
        "dateparse = lambda dates: pd.datetime.strptime(dates, '%Y-%m')\n",
        "data = pd.read_csv(url, parse_dates=['Month'], index_col='Month',date_parser=dateparse)\n",
        "data = data.astype('float64')\n",
        "plt.plot(data)"
      ],
      "execution_count": null,
      "outputs": [
        {
          "output_type": "stream",
          "text": [
            "/usr/local/lib/python3.6/dist-packages/pandas/plotting/_converter.py:129: FutureWarning: Using an implicitly registered datetime converter for a matplotlib plotting method. The converter was registered by pandas on import. Future versions of pandas will require you to explicitly register matplotlib converters.\n",
            "\n",
            "To register the converters:\n",
            "\t>>> from pandas.plotting import register_matplotlib_converters\n",
            "\t>>> register_matplotlib_converters()\n",
            "  warnings.warn(msg, FutureWarning)\n"
          ],
          "name": "stderr"
        },
        {
          "output_type": "execute_result",
          "data": {
            "text/plain": [
              "[<matplotlib.lines.Line2D at 0x7fa767505d30>]"
            ]
          },
          "metadata": {
            "tags": []
          },
          "execution_count": 2
        },
        {
          "output_type": "display_data",
          "data": {
            "image/png": "[encoded data removed]",
            "text/plain": [
              "<Figure size 1080x432 with 1 Axes>"
            ]
          },
          "metadata": {
            "tags": []
          }
        }
      ]
    },
    {
      "cell_type": "markdown",
      "metadata": {
        "id": "j_62SwklWLpT"
      },
      "source": [
        "## Split a sequence into samples"
      ]
    },
    {
      "cell_type": "code",
      "metadata": {
        "id": "fjnJ0qaGSdDC"
      },
      "source": [
        "def split_sequence(sequence, n_steps):\n",
        "\tX, y = list(), list()\n",
        "\tfor i in range(len(sequence)):\n",
        "\t\t# find the end of this pattern\n",
        "\t\tend_ix = i + n_steps\n",
        "\t\t# check if we are beyond the sequence\n",
        "\t\tif end_ix > len(sequence)-1:\n",
        "\t\t\tbreak\n",
        "\t\t# gather input and output parts of the pattern\n",
        "\t\tseq_x, seq_y = sequence.iloc[i:end_ix].values, sequence.iloc[end_ix].values\n",
        "\t\tX.append(seq_x)\n",
        "\t\ty.append(seq_y)\n",
        "\treturn array(X), array(y)"
      ],
      "execution_count": null,
      "outputs": []
    },
    {
      "cell_type": "code",
      "metadata": {
        "id": "K618w8ZsSwvF",
        "colab": {
          "base_uri": "https://localhost:8080/",
          "height": 35
        },
        "outputId": "94e11a23-8f9d-4da9-ff81-af33c69cd026"
      },
      "source": [
        "n_steps = 5\n",
        "X, y = split_sequence(data, n_steps)\n",
        "print ('(samples, timesteps, features): '+ str(X.shape))"
      ],
      "execution_count": null,
      "outputs": [
        {
          "output_type": "stream",
          "text": [
            "(samples, timesteps, features): (139, 5, 1)\n"
          ],
          "name": "stdout"
        }
      ]
    },
    {
      "cell_type": "markdown",
      "metadata": {
        "id": "S9Dtmpy1XwBS"
      },
      "source": [
        "### Split Dataset\n",
        "We can split the dataset into three parts.\n",
        "\n",
        "The first part is the training dataset that we will use to train our model. The second part is the validation part that we will use it to validate the perfromance of our model. The third part is the test dataset that we will pretend is not available. It is these time steps that we will treat as out of sample.\n",
        "\n",
        "The dataset contains data from January 1949 to December 1960.\n",
        "\n",
        "1. 1949 - 1957:**Training**\n",
        "2. 1958: **Validation**\n",
        "3. 1959 - 1960: **Test**"
      ]
    },
    {
      "cell_type": "code",
      "metadata": {
        "id": "gnn444yLXrCG",
        "colab": {
          "base_uri": "https://localhost:8080/",
          "height": 35
        },
        "outputId": "52606af0-3aec-4dd5-84b3-7ecbce7dcd29"
      },
      "source": [
        "X_train, y_train = X[:-36],y[:-36]\n",
        "X_valid, y_valid = X[-36:-24],y[-36:-24]\n",
        "X_test, y_test = X[-24:],y[-24:]\n",
        "print (X_train.shape,X_valid.shape,X_test.shape)"
      ],
      "execution_count": null,
      "outputs": [
        {
          "output_type": "stream",
          "text": [
            "(103, 5, 1) (12, 5, 1) (24, 5, 1)\n"
          ],
          "name": "stdout"
        }
      ]
    },
    {
      "cell_type": "markdown",
      "metadata": {
        "id": "RyIQeuguWz0S"
      },
      "source": [
        "## Build a CNN model"
      ]
    },
    {
      "cell_type": "code",
      "metadata": {
        "id": "0u30AYyZWFUb",
        "colab": {
          "base_uri": "https://localhost:8080/",
          "height": 384
        },
        "outputId": "84756cf9-e754-47a7-e9f9-6fc4bf44e330"
      },
      "source": [
        "cnn = Sequential()\n",
        "cnn.add(Conv1D(filters=64, kernel_size=2, activation='relu', input_shape=(X_train.shape[1], X_train.shape[2])))\n",
        "cnn.add(MaxPooling1D(pool_size=2))\n",
        "cnn.add(Flatten())\n",
        "cnn.add(Dense(50, activation='relu'))\n",
        "cnn.add(Dense(1))\n",
        "cnn.compile(optimizer='adam', loss='mse')\n",
        "cnn.summary()"
      ],
      "execution_count": null,
      "outputs": [
        {
          "output_type": "stream",
          "text": [
            "WARNING:tensorflow:From /usr/local/lib/python3.6/dist-packages/tensorflow/python/framework/op_def_library.py:263: colocate_with (from tensorflow.python.framework.ops) is deprecated and will be removed in a future version.\n",
            "Instructions for updating:\n",
            "Colocations handled automatically by placer.\n",
            "_________________________________________________________________\n",
            "Layer (type)                 Output Shape              Param #   \n",
            "=================================================================\n",
            "conv1d_1 (Conv1D)            (None, 4, 64)             192       \n",
            "_________________________________________________________________\n",
            "max_pooling1d_1 (MaxPooling1 (None, 2, 64)             0         \n",
            "_________________________________________________________________\n",
            "flatten_1 (Flatten)          (None, 128)               0         \n",
            "_________________________________________________________________\n",
            "dense_1 (Dense)              (None, 50)                6450      \n",
            "_________________________________________________________________\n",
            "dense_2 (Dense)              (None, 1)                 51        \n",
            "=================================================================\n",
            "Total params: 6,693\n",
            "Trainable params: 6,693\n",
            "Non-trainable params: 0\n",
            "_________________________________________________________________\n"
          ],
          "name": "stdout"
        }
      ]
    },
    {
      "cell_type": "markdown",
      "metadata": {
        "id": "UyIvR8vecBas"
      },
      "source": [
        "## Train model and demonstrate prediction"
      ]
    },
    {
      "cell_type": "code",
      "metadata": {
        "id": "JFGc2ZQMcW6h",
        "colab": {
          "base_uri": "https://localhost:8080/",
          "height": 7057
        },
        "outputId": "8562a9f1-d4bf-4bb4-9bd0-4b34b20f6113"
      },
      "source": [
        "cnn.fit(X_train, y_train, validation_data = (X_valid, y_valid), epochs=200, verbose=1)"
      ],
      "execution_count": null,
      "outputs": [
        {
          "output_type": "stream",
          "text": [
            "WARNING:tensorflow:From /usr/local/lib/python3.6/dist-packages/tensorflow/python/ops/math_ops.py:3066: to_int32 (from tensorflow.python.ops.math_ops) is deprecated and will be removed in a future version.\n",
            "Instructions for updating:\n",
            "Use tf.cast instead.\n",
            "Train on 103 samples, validate on 12 samples\n",
            "Epoch 1/200\n",
            "103/103 [==============================] - 1s 7ms/step - loss: 59004.3949 - val_loss: 115860.7188\n",
            "Epoch 2/200\n",
            "103/103 [==============================] - 0s 112us/step - loss: 44773.3451 - val_loss: 84947.4297\n",
            "Epoch 3/200\n",
            "103/103 [==============================] - 0s 112us/step - loss: 32949.5820 - val_loss: 60753.8320\n",
            "Epoch 4/200\n",
            "103/103 [==============================] - 0s 91us/step - loss: 23439.9539 - val_loss: 41152.1602\n",
            "Epoch 5/200\n",
            "103/103 [==============================] - 0s 94us/step - loss: 15822.9867 - val_loss: 25263.8594\n",
            "Epoch 6/200\n",
            "103/103 [==============================] - 0s 122us/step - loss: 9342.7104 - val_loss: 13686.5469\n",
            "Epoch 7/200\n",
            "103/103 [==============================] - 0s 103us/step - loss: 4654.7969 - val_loss: 7354.8730\n",
            "Epoch 8/200\n",
            "103/103 [==============================] - 0s 122us/step - loss: 2398.7745 - val_loss: 6147.1367\n",
            "Epoch 9/200\n",
            "103/103 [==============================] - 0s 110us/step - loss: 1889.2034 - val_loss: 7847.2168\n",
            "Epoch 10/200\n",
            "103/103 [==============================] - 0s 106us/step - loss: 2269.4209 - val_loss: 9263.8467\n",
            "Epoch 11/200\n",
            "103/103 [==============================] - 0s 104us/step - loss: 2599.5993 - val_loss: 9176.3467\n",
            "Epoch 12/200\n",
            "103/103 [==============================] - 0s 112us/step - loss: 2443.5975 - val_loss: 8091.0425\n",
            "Epoch 13/200\n",
            "103/103 [==============================] - 0s 113us/step - loss: 2109.5421 - val_loss: 6915.4590\n",
            "Epoch 14/200\n",
            "103/103 [==============================] - 0s 107us/step - loss: 1837.0434 - val_loss: 6237.1270\n",
            "Epoch 15/200\n",
            "103/103 [==============================] - 0s 114us/step - loss: 1764.8865 - val_loss: 6022.1973\n",
            "Epoch 16/200\n",
            "103/103 [==============================] - 0s 126us/step - loss: 1764.9491 - val_loss: 5975.6445\n",
            "Epoch 17/200\n",
            "103/103 [==============================] - 0s 95us/step - loss: 1777.4599 - val_loss: 5955.5679\n",
            "Epoch 18/200\n",
            "103/103 [==============================] - 0s 138us/step - loss: 1788.6420 - val_loss: 5944.3140\n",
            "Epoch 19/200\n",
            "103/103 [==============================] - 0s 147us/step - loss: 1814.6596 - val_loss: 5920.4976\n",
            "Epoch 20/200\n",
            "103/103 [==============================] - 0s 113us/step - loss: 1790.2698 - val_loss: 5910.9258\n",
            "Epoch 21/200\n",
            "103/103 [==============================] - 0s 97us/step - loss: 1732.6170 - val_loss: 5992.9980\n",
            "Epoch 22/200\n",
            "103/103 [==============================] - 0s 120us/step - loss: 1701.9722 - val_loss: 6136.3809\n",
            "Epoch 23/200\n",
            "103/103 [==============================] - 0s 103us/step - loss: 1726.4617 - val_loss: 6244.9907\n",
            "Epoch 24/200\n",
            "103/103 [==============================] - 0s 105us/step - loss: 1731.7618 - val_loss: 6192.6226\n",
            "Epoch 25/200\n",
            "103/103 [==============================] - 0s 120us/step - loss: 1714.4083 - val_loss: 6058.6191\n",
            "Epoch 26/200\n",
            "103/103 [==============================] - 0s 105us/step - loss: 1696.0886 - val_loss: 5968.1108\n",
            "Epoch 27/200\n",
            "103/103 [==============================] - 0s 90us/step - loss: 1688.1885 - val_loss: 5889.0854\n",
            "Epoch 28/200\n",
            "103/103 [==============================] - 0s 87us/step - loss: 1683.3734 - val_loss: 5888.0454\n",
            "Epoch 29/200\n",
            "103/103 [==============================] - 0s 113us/step - loss: 1678.9542 - val_loss: 5830.4199\n",
            "Epoch 30/200\n",
            "103/103 [==============================] - 0s 124us/step - loss: 1667.5409 - val_loss: 5722.2407\n",
            "Epoch 31/200\n",
            "103/103 [==============================] - 0s 114us/step - loss: 1681.8711 - val_loss: 5685.5405\n",
            "Epoch 32/200\n",
            "103/103 [==============================] - 0s 94us/step - loss: 1686.4239 - val_loss: 5666.4897\n",
            "Epoch 33/200\n",
            "103/103 [==============================] - 0s 85us/step - loss: 1664.4275 - val_loss: 5695.3296\n",
            "Epoch 34/200\n",
            "103/103 [==============================] - 0s 130us/step - loss: 1642.6848 - val_loss: 5834.1719\n",
            "Epoch 35/200\n",
            "103/103 [==============================] - 0s 135us/step - loss: 1665.2421 - val_loss: 6091.6323\n",
            "Epoch 36/200\n",
            "103/103 [==============================] - 0s 126us/step - loss: 1701.9224 - val_loss: 6157.3594\n",
            "Epoch 37/200\n",
            "103/103 [==============================] - 0s 224us/step - loss: 1701.4078 - val_loss: 6055.0781\n",
            "Epoch 38/200\n",
            "103/103 [==============================] - 0s 91us/step - loss: 1655.9220 - val_loss: 5734.5527\n",
            "Epoch 39/200\n",
            "103/103 [==============================] - 0s 110us/step - loss: 1620.3341 - val_loss: 5565.3140\n",
            "Epoch 40/200\n",
            "103/103 [==============================] - 0s 142us/step - loss: 1618.7272 - val_loss: 5515.0718\n",
            "Epoch 41/200\n",
            "103/103 [==============================] - 0s 124us/step - loss: 1613.3021 - val_loss: 5520.8594\n",
            "Epoch 42/200\n",
            "103/103 [==============================] - 0s 99us/step - loss: 1611.6101 - val_loss: 5545.5669\n",
            "Epoch 43/200\n",
            "103/103 [==============================] - 0s 99us/step - loss: 1592.5932 - val_loss: 5499.3149\n",
            "Epoch 44/200\n",
            "103/103 [==============================] - 0s 111us/step - loss: 1590.1043 - val_loss: 5430.9771\n",
            "Epoch 45/200\n",
            "103/103 [==============================] - 0s 116us/step - loss: 1589.3257 - val_loss: 5401.4404\n",
            "Epoch 46/200\n",
            "103/103 [==============================] - 0s 94us/step - loss: 1588.4144 - val_loss: 5409.4751\n",
            "Epoch 47/200\n",
            "103/103 [==============================] - 0s 96us/step - loss: 1570.3390 - val_loss: 5339.0513\n",
            "Epoch 48/200\n",
            "103/103 [==============================] - 0s 89us/step - loss: 1572.8970 - val_loss: 5292.3853\n",
            "Epoch 49/200\n",
            "103/103 [==============================] - 0s 119us/step - loss: 1573.6132 - val_loss: 5293.5742\n",
            "Epoch 50/200\n",
            "103/103 [==============================] - 0s 94us/step - loss: 1559.6501 - val_loss: 5441.4741\n",
            "Epoch 51/200\n",
            "103/103 [==============================] - 0s 90us/step - loss: 1565.9193 - val_loss: 5521.4780\n",
            "Epoch 52/200\n",
            "103/103 [==============================] - 0s 97us/step - loss: 1534.6433 - val_loss: 5313.9424\n",
            "Epoch 53/200\n",
            "103/103 [==============================] - 0s 117us/step - loss: 1501.5175 - val_loss: 5152.2388\n",
            "Epoch 54/200\n",
            "103/103 [==============================] - 0s 112us/step - loss: 1561.4531 - val_loss: 5139.7280\n",
            "Epoch 55/200\n",
            "103/103 [==============================] - 0s 109us/step - loss: 1617.4993 - val_loss: 5133.5703\n",
            "Epoch 56/200\n",
            "103/103 [==============================] - 0s 123us/step - loss: 1599.0752 - val_loss: 5075.6152\n",
            "Epoch 57/200\n",
            "103/103 [==============================] - 0s 96us/step - loss: 1504.6316 - val_loss: 5216.2109\n",
            "Epoch 58/200\n",
            "103/103 [==============================] - 0s 100us/step - loss: 1522.1200 - val_loss: 5570.1406\n",
            "Epoch 59/200\n",
            "103/103 [==============================] - 0s 146us/step - loss: 1568.4100 - val_loss: 5578.8696\n",
            "Epoch 60/200\n",
            "103/103 [==============================] - 0s 109us/step - loss: 1539.2034 - val_loss: 5326.8433\n",
            "Epoch 61/200\n",
            "103/103 [==============================] - 0s 157us/step - loss: 1488.1782 - val_loss: 5118.1035\n",
            "Epoch 62/200\n",
            "103/103 [==============================] - 0s 132us/step - loss: 1460.0378 - val_loss: 4981.8022\n",
            "Epoch 63/200\n",
            "103/103 [==============================] - 0s 81us/step - loss: 1488.4655 - val_loss: 4917.6655\n",
            "Epoch 64/200\n",
            "103/103 [==============================] - 0s 121us/step - loss: 1478.2295 - val_loss: 4915.8862\n",
            "Epoch 65/200\n",
            "103/103 [==============================] - 0s 100us/step - loss: 1454.8492 - val_loss: 4963.7905\n",
            "Epoch 66/200\n",
            "103/103 [==============================] - 0s 131us/step - loss: 1441.6209 - val_loss: 5039.4102\n",
            "Epoch 67/200\n",
            "103/103 [==============================] - 0s 105us/step - loss: 1446.6014 - val_loss: 5099.1558\n",
            "Epoch 68/200\n",
            "103/103 [==============================] - 0s 180us/step - loss: 1442.6701 - val_loss: 5002.4941\n",
            "Epoch 69/200\n",
            "103/103 [==============================] - 0s 102us/step - loss: 1427.9931 - val_loss: 4872.2437\n",
            "Epoch 70/200\n",
            "103/103 [==============================] - 0s 104us/step - loss: 1414.0764 - val_loss: 4808.7549\n",
            "Epoch 71/200\n",
            "103/103 [==============================] - 0s 93us/step - loss: 1413.0013 - val_loss: 4732.8228\n",
            "Epoch 72/200\n",
            "103/103 [==============================] - 0s 101us/step - loss: 1413.0445 - val_loss: 4681.5356\n",
            "Epoch 73/200\n",
            "103/103 [==============================] - 0s 156us/step - loss: 1429.1958 - val_loss: 4656.7393\n",
            "Epoch 74/200\n",
            "103/103 [==============================] - 0s 92us/step - loss: 1410.5907 - val_loss: 4746.0601\n",
            "Epoch 75/200\n",
            "103/103 [==============================] - 0s 103us/step - loss: 1388.3617 - val_loss: 4824.5063\n",
            "Epoch 76/200\n",
            "103/103 [==============================] - 0s 85us/step - loss: 1382.2916 - val_loss: 4782.3052\n",
            "Epoch 77/200\n",
            "103/103 [==============================] - 0s 90us/step - loss: 1368.0894 - val_loss: 4647.5752\n",
            "Epoch 78/200\n",
            "103/103 [==============================] - 0s 88us/step - loss: 1354.0625 - val_loss: 4594.5903\n",
            "Epoch 79/200\n",
            "103/103 [==============================] - 0s 89us/step - loss: 1350.4759 - val_loss: 4550.1919\n",
            "Epoch 80/200\n",
            "103/103 [==============================] - 0s 93us/step - loss: 1344.7064 - val_loss: 4549.1509\n",
            "Epoch 81/200\n",
            "103/103 [==============================] - 0s 102us/step - loss: 1332.1235 - val_loss: 4516.2236\n",
            "Epoch 82/200\n",
            "103/103 [==============================] - 0s 98us/step - loss: 1324.2932 - val_loss: 4475.8530\n",
            "Epoch 83/200\n",
            "103/103 [==============================] - 0s 79us/step - loss: 1319.4648 - val_loss: 4476.1421\n",
            "Epoch 84/200\n",
            "103/103 [==============================] - 0s 84us/step - loss: 1316.1724 - val_loss: 4502.5024\n",
            "Epoch 85/200\n",
            "103/103 [==============================] - 0s 112us/step - loss: 1307.2865 - val_loss: 4446.8276\n",
            "Epoch 86/200\n",
            "103/103 [==============================] - 0s 100us/step - loss: 1300.5566 - val_loss: 4472.5366\n",
            "Epoch 87/200\n",
            "103/103 [==============================] - 0s 114us/step - loss: 1297.9245 - val_loss: 4603.2881\n",
            "Epoch 88/200\n",
            "103/103 [==============================] - 0s 109us/step - loss: 1320.0271 - val_loss: 4590.4370\n",
            "Epoch 89/200\n",
            "103/103 [==============================] - 0s 121us/step - loss: 1298.9243 - val_loss: 4414.7520\n",
            "Epoch 90/200\n",
            "103/103 [==============================] - 0s 112us/step - loss: 1245.0100 - val_loss: 4196.9834\n",
            "Epoch 91/200\n",
            "103/103 [==============================] - 0s 92us/step - loss: 1261.2261 - val_loss: 4107.7749\n",
            "Epoch 92/200\n",
            "103/103 [==============================] - 0s 153us/step - loss: 1273.6943 - val_loss: 4068.6836\n",
            "Epoch 93/200\n",
            "103/103 [==============================] - 0s 117us/step - loss: 1249.9149 - val_loss: 4050.8259\n",
            "Epoch 94/200\n",
            "103/103 [==============================] - 0s 96us/step - loss: 1212.5959 - val_loss: 4113.6226\n",
            "Epoch 95/200\n",
            "103/103 [==============================] - 0s 93us/step - loss: 1212.4461 - val_loss: 4209.0103\n",
            "Epoch 96/200\n",
            "103/103 [==============================] - 0s 106us/step - loss: 1215.3984 - val_loss: 4127.8735\n",
            "Epoch 97/200\n",
            "103/103 [==============================] - 0s 103us/step - loss: 1169.6134 - val_loss: 3930.2571\n",
            "Epoch 98/200\n",
            "103/103 [==============================] - 0s 117us/step - loss: 1185.5293 - val_loss: 3851.6936\n",
            "Epoch 99/200\n",
            "103/103 [==============================] - 0s 113us/step - loss: 1191.7912 - val_loss: 3819.0820\n",
            "Epoch 100/200\n",
            "103/103 [==============================] - 0s 111us/step - loss: 1168.4973 - val_loss: 3806.8923\n",
            "Epoch 101/200\n",
            "103/103 [==============================] - 0s 102us/step - loss: 1156.4543 - val_loss: 3884.7383\n",
            "Epoch 102/200\n",
            "103/103 [==============================] - 0s 110us/step - loss: 1141.6712 - val_loss: 3845.2930\n",
            "Epoch 103/200\n",
            "103/103 [==============================] - 0s 145us/step - loss: 1133.8039 - val_loss: 3698.8721\n",
            "Epoch 104/200\n",
            "103/103 [==============================] - 0s 131us/step - loss: 1121.0169 - val_loss: 3667.0149\n",
            "Epoch 105/200\n",
            "103/103 [==============================] - 0s 123us/step - loss: 1110.9728 - val_loss: 3649.7383\n",
            "Epoch 106/200\n",
            "103/103 [==============================] - 0s 115us/step - loss: 1102.1982 - val_loss: 3648.2278\n",
            "Epoch 107/200\n",
            "103/103 [==============================] - 0s 105us/step - loss: 1105.8131 - val_loss: 3593.4480\n",
            "Epoch 108/200\n",
            "103/103 [==============================] - 0s 111us/step - loss: 1081.5897 - val_loss: 3722.6946\n",
            "Epoch 109/200\n",
            "103/103 [==============================] - 0s 92us/step - loss: 1099.0359 - val_loss: 3660.4856\n",
            "Epoch 110/200\n",
            "103/103 [==============================] - 0s 243us/step - loss: 1087.2963 - val_loss: 3453.4785\n",
            "Epoch 111/200\n",
            "103/103 [==============================] - 0s 102us/step - loss: 1086.5683 - val_loss: 3422.2080\n",
            "Epoch 112/200\n",
            "103/103 [==============================] - 0s 97us/step - loss: 1053.4204 - val_loss: 3502.9824\n",
            "Epoch 113/200\n",
            "103/103 [==============================] - 0s 94us/step - loss: 1032.0137 - val_loss: 3785.2249\n",
            "Epoch 114/200\n",
            "103/103 [==============================] - 0s 126us/step - loss: 1107.8705 - val_loss: 3822.4727\n",
            "Epoch 115/200\n",
            "103/103 [==============================] - 0s 148us/step - loss: 1086.8942 - val_loss: 3577.9368\n",
            "Epoch 116/200\n",
            "103/103 [==============================] - 0s 86us/step - loss: 1029.9907 - val_loss: 3298.2048\n",
            "Epoch 117/200\n",
            "103/103 [==============================] - 0s 82us/step - loss: 1038.1365 - val_loss: 3250.7158\n",
            "Epoch 118/200\n",
            "103/103 [==============================] - 0s 129us/step - loss: 1025.1968 - val_loss: 3282.7449\n",
            "Epoch 119/200\n",
            "103/103 [==============================] - 0s 90us/step - loss: 982.1363 - val_loss: 3416.9541\n",
            "Epoch 120/200\n",
            "103/103 [==============================] - 0s 91us/step - loss: 1013.9378 - val_loss: 3449.9524\n",
            "Epoch 121/200\n",
            "103/103 [==============================] - 0s 106us/step - loss: 1018.0196 - val_loss: 3235.5295\n",
            "Epoch 122/200\n",
            "103/103 [==============================] - 0s 94us/step - loss: 973.9266 - val_loss: 3208.8113\n",
            "Epoch 123/200\n",
            "103/103 [==============================] - 0s 93us/step - loss: 970.7877 - val_loss: 3167.3235\n",
            "Epoch 124/200\n",
            "103/103 [==============================] - 0s 88us/step - loss: 969.1966 - val_loss: 3239.4504\n",
            "Epoch 125/200\n",
            "103/103 [==============================] - 0s 118us/step - loss: 964.4067 - val_loss: 3126.7878\n",
            "Epoch 126/200\n",
            "103/103 [==============================] - 0s 82us/step - loss: 950.6748 - val_loss: 3100.5969\n",
            "Epoch 127/200\n",
            "103/103 [==============================] - 0s 128us/step - loss: 949.2238 - val_loss: 3137.0515\n",
            "Epoch 128/200\n",
            "103/103 [==============================] - 0s 155us/step - loss: 942.2294 - val_loss: 3074.2581\n",
            "Epoch 129/200\n",
            "103/103 [==============================] - 0s 107us/step - loss: 929.4152 - val_loss: 2981.1677\n",
            "Epoch 130/200\n",
            "103/103 [==============================] - 0s 96us/step - loss: 962.1699 - val_loss: 2958.7363\n",
            "Epoch 131/200\n",
            "103/103 [==============================] - 0s 106us/step - loss: 934.9610 - val_loss: 3020.4023\n",
            "Epoch 132/200\n",
            "103/103 [==============================] - 0s 114us/step - loss: 917.1939 - val_loss: 3198.9766\n",
            "Epoch 133/200\n",
            "103/103 [==============================] - 0s 81us/step - loss: 982.7169 - val_loss: 3243.6729\n",
            "Epoch 134/200\n",
            "103/103 [==============================] - 0s 86us/step - loss: 918.4486 - val_loss: 2907.4932\n",
            "Epoch 135/200\n",
            "103/103 [==============================] - 0s 80us/step - loss: 891.6138 - val_loss: 2850.5984\n",
            "Epoch 136/200\n",
            "103/103 [==============================] - 0s 75us/step - loss: 935.6152 - val_loss: 2827.6934\n",
            "Epoch 137/200\n",
            "103/103 [==============================] - 0s 106us/step - loss: 913.5479 - val_loss: 2839.7715\n",
            "Epoch 138/200\n",
            "103/103 [==============================] - 0s 127us/step - loss: 903.8887 - val_loss: 3173.4707\n",
            "Epoch 139/200\n",
            "103/103 [==============================] - 0s 249us/step - loss: 931.9440 - val_loss: 3019.8640\n",
            "Epoch 140/200\n",
            "103/103 [==============================] - 0s 120us/step - loss: 886.9808 - val_loss: 2769.8235\n",
            "Epoch 141/200\n",
            "103/103 [==============================] - 0s 97us/step - loss: 914.8544 - val_loss: 2712.6257\n",
            "Epoch 142/200\n",
            "103/103 [==============================] - 0s 88us/step - loss: 889.0912 - val_loss: 2722.6299\n",
            "Epoch 143/200\n",
            "103/103 [==============================] - 0s 95us/step - loss: 858.7575 - val_loss: 2859.9795\n",
            "Epoch 144/200\n",
            "103/103 [==============================] - 0s 116us/step - loss: 881.3408 - val_loss: 2917.9434\n",
            "Epoch 145/200\n",
            "103/103 [==============================] - 0s 85us/step - loss: 861.1199 - val_loss: 2698.0918\n",
            "Epoch 146/200\n",
            "103/103 [==============================] - 0s 98us/step - loss: 853.4144 - val_loss: 2623.4329\n",
            "Epoch 147/200\n",
            "103/103 [==============================] - 0s 123us/step - loss: 862.7733 - val_loss: 2609.7422\n",
            "Epoch 148/200\n",
            "103/103 [==============================] - 0s 93us/step - loss: 847.1788 - val_loss: 2608.5305\n",
            "Epoch 149/200\n",
            "103/103 [==============================] - 0s 129us/step - loss: 849.2413 - val_loss: 2685.5564\n",
            "Epoch 150/200\n",
            "103/103 [==============================] - 0s 110us/step - loss: 828.0450 - val_loss: 2593.6462\n",
            "Epoch 151/200\n",
            "103/103 [==============================] - 0s 88us/step - loss: 818.9269 - val_loss: 2531.1223\n",
            "Epoch 152/200\n",
            "103/103 [==============================] - 0s 81us/step - loss: 867.1534 - val_loss: 2520.0549\n",
            "Epoch 153/200\n",
            "103/103 [==============================] - 0s 120us/step - loss: 842.6472 - val_loss: 2541.1250\n",
            "Epoch 154/200\n",
            "103/103 [==============================] - 0s 107us/step - loss: 811.2807 - val_loss: 2523.3376\n",
            "Epoch 155/200\n",
            "103/103 [==============================] - 0s 114us/step - loss: 810.6508 - val_loss: 2482.5193\n",
            "Epoch 156/200\n",
            "103/103 [==============================] - 0s 90us/step - loss: 808.6253 - val_loss: 2460.3933\n",
            "Epoch 157/200\n",
            "103/103 [==============================] - 0s 119us/step - loss: 804.7025 - val_loss: 2445.3145\n",
            "Epoch 158/200\n",
            "103/103 [==============================] - 0s 77us/step - loss: 796.8672 - val_loss: 2438.1335\n",
            "Epoch 159/200\n",
            "103/103 [==============================] - 0s 81us/step - loss: 787.3283 - val_loss: 2450.3442\n",
            "Epoch 160/200\n",
            "103/103 [==============================] - 0s 78us/step - loss: 792.3043 - val_loss: 2476.9919\n",
            "Epoch 161/200\n",
            "103/103 [==============================] - 0s 91us/step - loss: 782.7451 - val_loss: 2401.9338\n",
            "Epoch 162/200\n",
            "103/103 [==============================] - 0s 105us/step - loss: 777.0645 - val_loss: 2377.2610\n",
            "Epoch 163/200\n",
            "103/103 [==============================] - 0s 125us/step - loss: 779.8628 - val_loss: 2351.1287\n",
            "Epoch 164/200\n",
            "103/103 [==============================] - 0s 135us/step - loss: 777.1425 - val_loss: 2405.7637\n",
            "Epoch 165/200\n",
            "103/103 [==============================] - 0s 135us/step - loss: 777.6014 - val_loss: 2422.8660\n",
            "Epoch 166/200\n",
            "103/103 [==============================] - 0s 100us/step - loss: 774.2448 - val_loss: 2367.3669\n",
            "Epoch 167/200\n",
            "103/103 [==============================] - 0s 92us/step - loss: 760.7994 - val_loss: 2337.8792\n",
            "Epoch 168/200\n",
            "103/103 [==============================] - 0s 133us/step - loss: 759.8462 - val_loss: 2361.7122\n",
            "Epoch 169/200\n",
            "103/103 [==============================] - 0s 106us/step - loss: 756.5704 - val_loss: 2390.1895\n",
            "Epoch 170/200\n",
            "103/103 [==============================] - 0s 98us/step - loss: 754.4322 - val_loss: 2322.5310\n",
            "Epoch 171/200\n",
            "103/103 [==============================] - 0s 103us/step - loss: 751.0922 - val_loss: 2233.4175\n",
            "Epoch 172/200\n",
            "103/103 [==============================] - 0s 106us/step - loss: 767.5871 - val_loss: 2211.3748\n",
            "Epoch 173/200\n",
            "103/103 [==============================] - 0s 108us/step - loss: 768.7930 - val_loss: 2207.3337\n",
            "Epoch 174/200\n",
            "103/103 [==============================] - 0s 80us/step - loss: 733.4901 - val_loss: 2305.8027\n",
            "Epoch 175/200\n",
            "103/103 [==============================] - 0s 84us/step - loss: 743.3055 - val_loss: 2344.7163\n",
            "Epoch 176/200\n",
            "103/103 [==============================] - 0s 108us/step - loss: 747.8120 - val_loss: 2222.9658\n",
            "Epoch 177/200\n",
            "103/103 [==============================] - 0s 128us/step - loss: 729.3881 - val_loss: 2170.1868\n",
            "Epoch 178/200\n",
            "103/103 [==============================] - 0s 126us/step - loss: 730.1421 - val_loss: 2161.6575\n",
            "Epoch 179/200\n",
            "103/103 [==============================] - 0s 132us/step - loss: 732.4493 - val_loss: 2205.2329\n",
            "Epoch 180/200\n",
            "103/103 [==============================] - 0s 91us/step - loss: 729.3393 - val_loss: 2404.9128\n",
            "Epoch 181/200\n",
            "103/103 [==============================] - 0s 91us/step - loss: 756.3308 - val_loss: 2304.8015\n",
            "Epoch 182/200\n",
            "103/103 [==============================] - 0s 109us/step - loss: 733.4257 - val_loss: 2139.6140\n",
            "Epoch 183/200\n",
            "103/103 [==============================] - 0s 95us/step - loss: 713.4572 - val_loss: 2088.7744\n",
            "Epoch 184/200\n",
            "103/103 [==============================] - 0s 130us/step - loss: 720.1236 - val_loss: 2087.8201\n",
            "Epoch 185/200\n",
            "103/103 [==============================] - 0s 83us/step - loss: 718.0544 - val_loss: 2083.0720\n",
            "Epoch 186/200\n",
            "103/103 [==============================] - 0s 106us/step - loss: 712.3530 - val_loss: 2073.2280\n",
            "Epoch 187/200\n",
            "103/103 [==============================] - 0s 92us/step - loss: 706.1979 - val_loss: 2134.7451\n",
            "Epoch 188/200\n",
            "103/103 [==============================] - 0s 100us/step - loss: 706.2752 - val_loss: 2173.6948\n",
            "Epoch 189/200\n",
            "103/103 [==============================] - 0s 87us/step - loss: 703.3020 - val_loss: 2067.3777\n",
            "Epoch 190/200\n",
            "103/103 [==============================] - 0s 96us/step - loss: 696.0861 - val_loss: 2022.7426\n",
            "Epoch 191/200\n",
            "103/103 [==============================] - 0s 95us/step - loss: 702.8142 - val_loss: 2035.6271\n",
            "Epoch 192/200\n",
            "103/103 [==============================] - 0s 87us/step - loss: 691.9489 - val_loss: 2090.0779\n",
            "Epoch 193/200\n",
            "103/103 [==============================] - 0s 110us/step - loss: 702.4877 - val_loss: 2132.6228\n",
            "Epoch 194/200\n",
            "103/103 [==============================] - 0s 100us/step - loss: 699.0463 - val_loss: 2003.1061\n",
            "Epoch 195/200\n",
            "103/103 [==============================] - 0s 86us/step - loss: 690.6447 - val_loss: 1975.3239\n",
            "Epoch 196/200\n",
            "103/103 [==============================] - 0s 92us/step - loss: 706.4901 - val_loss: 1975.5853\n",
            "Epoch 197/200\n",
            "103/103 [==============================] - 0s 69us/step - loss: 683.3108 - val_loss: 2033.8008\n",
            "Epoch 198/200\n",
            "103/103 [==============================] - 0s 101us/step - loss: 687.6787 - val_loss: 2042.9600\n",
            "Epoch 199/200\n",
            "103/103 [==============================] - 0s 137us/step - loss: 679.8381 - val_loss: 1957.0013\n",
            "Epoch 200/200\n",
            "103/103 [==============================] - 0s 139us/step - loss: 678.1981 - val_loss: 1930.8896\n"
          ],
          "name": "stdout"
        },
        {
          "output_type": "execute_result",
          "data": {
            "text/plain": [
              "<keras.callbacks.History at 0x7fa766970a90>"
            ]
          },
          "metadata": {
            "tags": []
          },
          "execution_count": 7
        }
      ]
    },
    {
      "cell_type": "code",
      "metadata": {
        "id": "u88H2zU4co4e",
        "colab": {
          "base_uri": "https://localhost:8080/",
          "height": 35
        },
        "outputId": "e6c7a910-8ac3-4675-ff32-4f7b0247ea9d"
      },
      "source": [
        "# make predictions\n",
        "predict = cnn.predict(X_test)\n",
        "# calculate root mean squared error\n",
        "testScore = math.sqrt(mean_squared_error(y_test, predict))\n",
        "print('Test Score: %.2f RMSE' % (testScore))"
      ],
      "execution_count": null,
      "outputs": [
        {
          "output_type": "stream",
          "text": [
            "Test Score: 51.08 RMSE\n"
          ],
          "name": "stdout"
        }
      ]
    },
    {
      "cell_type": "code",
      "metadata": {
        "id": "Qp4mwBaBc49Q",
        "colab": {
          "base_uri": "https://localhost:8080/",
          "height": 379
        },
        "outputId": "34d085f7-dac8-4ea6-8f30-8aacebec9dd0"
      },
      "source": [
        "\n",
        "predict_plot = pd.DataFrame(predict,index=data.index[-24:])\n",
        "plt.plot(data)\n",
        "plt.plot(predict_plot)\n",
        "plt.show()"
      ],
      "execution_count": null,
      "outputs": [
        {
          "output_type": "display_data",
          "data": {
            "image/png": "[encoded data removed]",
            "text/plain": [
              "<Figure size 1080x432 with 1 Axes>"
            ]
          },
          "metadata": {
            "tags": []
          }
        }
      ]
    }
  ]
}