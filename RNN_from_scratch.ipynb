{
  "nbformat": 4,
  "nbformat_minor": 0,
  "metadata": {
    "colab": {
      "name": "RNN_from_scratch",
      "provenance": [],
      "collapsed_sections": [],
      "include_colab_link": true
    },
    "kernelspec": {
      "name": "python3",
      "display_name": "Python 3"
    }
  },
  "cells": [
    {
      "cell_type": "markdown",
      "metadata": {
        "id": "view-in-github",
        "colab_type": "text"
      },
      "source": [
        "<a href=\"https://colab.research.google.com/github/Yong-Zhuang/Tutoring/blob/main/RNN_from_scratch.ipynb\" target=\"_parent\"><img src=\"https://colab.research.google.com/assets/colab-badge.svg\" alt=\"Open In Colab\"/></a>"
      ]
    },
    {
      "cell_type": "markdown",
      "metadata": {
        "id": "lEeodDcV8MMy"
      },
      "source": [
        "## Fathers of the deep learning revolution receive ACM A.M. Turing Award\n",
        "\n",
        "\n",
        "![alt text](https://amturing.acm.org/images/lg_aw/3406375.jpg)\n",
        "\n",
        "**Yoshua Bengio**\n",
        "\n",
        "**Probabilistic models of sequences:** In the 1990s, Bengio combined neural networks with probabilistic models of sequences, such as hidden Markov models. These ideas were incorporated into a system used by AT&T/NCR for reading handwritten checks, were considered a pinnacle of neural network research in the 1990s, and modern deep learning speech recognition systems are extending these concepts.\n",
        "\n",
        "**High-dimensional word embeddings and attention:** In 2000, Bengio authored the landmark paper, “A Neural Probabilistic Language Model,” that introduced high-dimension word embeddings as a representation of word meaning. Bengio’s insights had a huge and lasting impact on natural language processing tasks including language translation, question answering, and visual question answering. His group also introduced a form of attention mechanism which led to breakthroughs in machine translation and form a key component of sequential processing with deep learning.\n",
        "\n",
        "**Generative adversarial networks:** Since 2010, Bengio’s papers on generative deep learning, in particular the Generative Adversarial Networks (GANs) developed with Ian Goodfellow, have spawned a revolution in computer vision and computer graphics. In one fascinating application of this work, computers can actually create original images, reminiscent of the creativity that is considered a hallmark of human intelligence.\n",
        "\n",
        "![alt text](https://amturing.acm.org/images/lg_aw/4791679.jpg)\n",
        "\n",
        "**Geoffrey Hinton**\n",
        "\n",
        "**Backpropagation:** In a 1986 paper, “Learning Internal Representations by Error Propagation,” co-authored with David Rumelhart and Ronald Williams, Hinton demonstrated that the backpropagation algorithm allowed neural nets to discover their own internal representations of data, making it possible to use neural nets to solve problems that had previously been thought to be beyond their reach. The backpropagation algorithm is standard in most neural networks today.\n",
        "\n",
        "**Boltzmann Machines:** In 1983, with Terrence Sejnowski, Hinton invented Boltzmann Machines, one of the first neural networks capable of learning internal representations in neurons that were not part of the input or output.\n",
        "\n",
        "**Improvements to convolutional neural networks:** In 2012, with his students, Alex Krizhevsky and Ilya Sutskever, Hinton improved convolutional neural networks using rectified linear neurons and dropout regularization. In the prominent ImageNet competition, Hinton and his students almost halved the error rate for object recognition and reshaped the computer vision field.\n",
        "\n",
        "![alt text](https://amturing.acm.org/images/lg_aw/6017366.jpg)\n",
        "\n",
        "**Yann LeCun**\n",
        "\n",
        "**Convolutional neural networks:** In the 1980s, LeCun developed convolutional neural networks, a foundational principle in the field, which, among other advantages, have been essential in making deep learning more efficient. In the late 1980s, while working at the University of Toronto and Bell Labs, LeCun was the first to train a convolutional neural network system on images of handwritten digits. Today, convolutional neural networks are an industry standard in computer vision, as well as in speech recognition, speech synthesis, image synthesis, and natural language processing. They are used in a wide variety of applications, including autonomous driving, medical image analysis, voice-activated assistants, and information filtering.\n",
        "\n",
        "**Improving backpropagation algorithms:** LeCun proposed an early version of the backpropagation algorithm (backprop), and gave a clean derivation of it based on variational principles. His work to speed up backpropagation algorithms included describing two simple methods to accelerate learning time.\n",
        "\n",
        "**Broadening the vision of neural networks:** LeCun is also credited with developing a broader vision for neural networks as a computational model for a wide range of tasks, introducing in early work a number of concepts now fundamental in AI. For example, in the context of recognizing images, he studied how hierarchical feature representation can be learned in neural networks—a concept that is now routinely used in many recognition tasks. Together with Léon Bottou, he proposed the idea, used in every modern deep learning software, that learning systems can be built as complex networks of modules where backpropagation is performed through automatic differentiation. They also proposed deep learning architectures that can manipulate structured data, such as graphs."
      ]
    },
    {
      "cell_type": "code",
      "metadata": {
        "id": "W213t2kG4q_E",
        "colab": {
          "base_uri": "https://localhost:8080/",
          "height": 34
        },
        "outputId": "866f6b2e-0de8-4fd4-887e-6faa8fd664f8"
      },
      "source": [
        "import tensorflow as tf\n",
        "tf.VERSION"
      ],
      "execution_count": null,
      "outputs": [
        {
          "output_type": "execute_result",
          "data": {
            "text/plain": [
              "'1.13.1'"
            ]
          },
          "metadata": {
            "tags": []
          },
          "execution_count": 1
        }
      ]
    },
    {
      "cell_type": "markdown",
      "metadata": {
        "id": "_JfzwiDRJuIp"
      },
      "source": [
        "refer to https://colah.github.io/posts/2015-08-Understanding-LSTMs/\n",
        "\n",
        "## Why do we need Recurrent Neural Networks (RNN)?\n",
        "There is a very specific use case where RNNs are required. In order to explain RNNs you need to first understand something called a sequence. Let's talk about sequences first.\n",
        "\n",
        "**Sequence** is a stream of data (finite or infinite) which are interdependent. Examples would be time series data, informative pieces of strings, conversations etc. In a conversation a sentence means something but the entire flow of the conversation mostly means something completely different. Also in a time series data like stock market data, a single tick data means the current price, but a full days data will show movement and allow us to take decision whether to buy or sell.\n",
        "\n",
        "Traditional neural networks generally don’t perform well when the input data is interdependent in a sequential pattern. Traditional neural networks don’t have any sort of correlation between previous input to the next input. So all the outputs are self dependent. You need to have some bias based on your previous output. This is where RNNs shine. RNNs have in them a sense some memory about what happened earlier in the sequence of data. This helps the system to gain context. Theoretically RNNs have infinite memory, meaning they have the capability to look back indefinitely. By look back I mean all previous inputs. But practically they can only look back a last few steps. (we will discuss this later)\n",
        "\n",
        "Just to draw a correlation with humans in general, we also don’t take in place decisions. We also base our decisions on previous knowledge on the subject. "
      ]
    },
    {
      "cell_type": "markdown",
      "metadata": {
        "id": "VR4BzCq7Lq2-"
      },
      "source": [
        "## Where to use a RNN?\n",
        "RNNs can be used in a lot of different places. Following are a few examples where a lot of RNNs are used.\n",
        "\n",
        "1. **Language Modelling and Generating Text**\n",
        "Given a sequence of word, here we try to predict the likelihood of the next word. This is useful for translation since the most likely sentence would be the one that is correct.\n",
        "\n",
        "2. ** Machine Translation**\n",
        "Translating text from one language to other uses one or the other form of RNN. All practical day systems use some advanced version of a RNN.\n",
        "\n",
        "3. **Speech Recognition**\n",
        "Predicting phonetic segments based on input sound waves, thus formulating a word.\n",
        "\n",
        "4. **Generating Image Descriptions**\n",
        "A very big use case is to understand what is happening inside an image, thus we have a good description. This works in a combination of CNN and RNN. CNN does the segmentation and RNN then used the segmented data to recreate the description. It’s rudimentary but the possibilities are limitless.\n",
        "\n",
        "5. **Video Tagging**\n",
        "This can be used for video search where we do image description of a video frame by frame."
      ]
    },
    {
      "cell_type": "markdown",
      "metadata": {
        "id": "OwTyZ7pHAFMO"
      },
      "source": [
        "## Recurrent Neural Networks\n",
        "\n",
        "Recurrent neural networks are a type of neural network where the outputs from previous time steps are fed as input to the current time step.\n",
        "\n",
        "### Recurrent Neural Networks have loops.\n",
        "![alt text](https://colah.github.io/posts/2015-08-Understanding-LSTMs/img/RNN-rolled.png =150x)\n",
        "\n",
        "### An unrolled recurrent neural network.\n",
        "![alt text](https://colah.github.io/posts/2015-08-Understanding-LSTMs/img/RNN-unrolled.png =750x)\n",
        "\n",
        "### The repeating module in a standard RNN contains a single layer.\n",
        "![alt text](https://colah.github.io/posts/2015-08-Understanding-LSTMs/img/LSTM3-SimpleRNN.png =750x)\n",
        "\n",
        "## $h_t=\\tanh ({W\\cdot [h_{t-1},x_t]+b}) $\n",
        "## where $\\tanh(x)=\\frac{e^x-e^{-x}}{e^x+e^{-x}}$"
      ]
    },
    {
      "cell_type": "markdown",
      "metadata": {
        "id": "zUXmaekKMZOr"
      },
      "source": [
        "## The Problem of Long-Term Dependencies"
      ]
    },
    {
      "cell_type": "markdown",
      "metadata": {
        "id": "OjB1oq7COsUk"
      },
      "source": [
        "One of the appeals of RNNs is the idea that they might be able to connect previous information to the present task, such as using previous video frames might inform the understanding of the present frame. If RNNs could do this, they’d be extremely useful. But can they? It depends.\n",
        "\n",
        "Sometimes, we only need to look at recent information to perform the present task. For example, consider a language model trying to predict the next word based on the previous ones. If we are trying to predict the last word in “the clouds are in the **sky**,” we don’t need any further context – it’s pretty obvious the next word is going to be sky. In such cases, where the gap between the relevant information and the place that it’s needed is small, RNNs can learn to use the past information.\n",
        "\n",
        "![alt text](https://colah.github.io/posts/2015-08-Understanding-LSTMs/img/RNN-shorttermdepdencies.png =450x)\n",
        "\n",
        "But there are also cases where we need more context. Consider trying to predict the last word in the text “I grew up in France… I speak fluent **French**.” Recent information suggests that the next word is probably the name of a language, but if we want to narrow down which language, we need the context of France, from further back. It’s entirely possible for the gap between the relevant information and the point where it is needed to become very large.\n",
        "\n",
        "Unfortunately, as that gap grows, RNNs become unable to learn to connect the information.\n",
        "![alt text](https://colah.github.io/posts/2015-08-Understanding-LSTMs/img/RNN-longtermdependencies.png =550x)"
      ]
    },
    {
      "cell_type": "markdown",
      "metadata": {
        "id": "wEWRFHvyQtB9"
      },
      "source": [
        "In theory, RNNs are absolutely capable of handling such “long-term dependencies.” A human could carefully pick parameters for them to solve toy problems of this form. Sadly, in practice, RNNs don’t seem to be able to learn them. "
      ]
    },
    {
      "cell_type": "markdown",
      "metadata": {
        "id": "T7nS69uPRGyP"
      },
      "source": [
        "## LSTM Networks\n",
        "Long Short Term Memory networks – usually just called “LSTMs” – are a special kind of RNN, capable of learning long-term dependencies. They were introduced by Hochreiter & Schmidhuber (1997), and were refined and popularized by many people in following work.1 They work tremendously well on a large variety of problems, and are now widely used.\n",
        "\n",
        "LSTMs are explicitly designed to avoid the long-term dependency problem. Remembering information for long periods of time is practically their default behavior, not something they struggle to learn!\n",
        "\n",
        "### The repeating module in an LSTM contains four interacting layers.\n",
        "\n",
        "![alt text](https://colah.github.io/posts/2015-08-Understanding-LSTMs/img/LSTM3-chain.png =750x)\n",
        "![alt text](https://colah.github.io/posts/2015-08-Understanding-LSTMs/img/LSTM2-notation.png =550x)"
      ]
    },
    {
      "cell_type": "markdown",
      "metadata": {
        "id": "g2b7IZOBl6NK"
      },
      "source": [
        "## Forget\n",
        "\n",
        "The first step in our LSTM is to decide what information we’re going to throw away from the cell state. This decision is made by a sigmoid layer called the **“forget gate layer.”** It looks at $h_{t−1}$ and$ x_t$, and outputs a number between 0 and 1 for each number in the cell state $C_{t−1}$. A 1 represents “completely keep this” while a 0 represents “completely get rid of this.”\n",
        "\n",
        "Example of language model:  He is French, **She** is ...\n",
        "Here we see a new subject **She**, we want to forget the information of  **“He”**.\n",
        "\n",
        "\n",
        "![alt text](https://colah.github.io/posts/2015-08-Understanding-LSTMs/img/LSTM3-focus-f.png =750x)"
      ]
    },
    {
      "cell_type": "markdown",
      "metadata": {
        "id": "GcXX02lgmm6d"
      },
      "source": [
        "## Remember\n",
        "\n",
        "The next step is to decide what new information we’re going to store in the cell state. This has two parts. First, a sigmoid layer called the **“input gate layer”** decides which values we’ll update. Next, a tanh layer creates a vector of **new candidate values, $\\tilde{C̃}_t$**, that could be added to the state. In the next step, we’ll combine these two to create an update to the state.\n",
        "\n",
        "Example of language model:  He is French, **She** is ...\n",
        "We’d want to add **“She”** to the cell state, to replace the old one we’re forgetting.\n",
        "\n",
        "\n",
        "\n",
        "![alt text](https://colah.github.io/posts/2015-08-Understanding-LSTMs/img/LSTM3-focus-i.png =750x)"
      ]
    },
    {
      "cell_type": "markdown",
      "metadata": {
        "id": "7Bnxid7no7zF"
      },
      "source": [
        "## Update Memory\n",
        "\n",
        "We multiply the old state by $f_t$, forgetting the things we decided to forget earlier. Then we add $i_t∗\\tilde{C̃}_t$. This is the new candidate values, scaled by how much we decided to update each state value.\n",
        "\n",
        "Example of language model:  He is French, **She** is ...\n",
        "This is where we’d actually drop the information **“He”** and add the new information **“She”**.\n",
        "\n",
        "\n",
        "![alt text](https://colah.github.io/posts/2015-08-Understanding-LSTMs/img/LSTM3-focus-C.png =750x)"
      ]
    },
    {
      "cell_type": "markdown",
      "metadata": {
        "id": "8PuzRfzEp4ZX"
      },
      "source": [
        "## Output\n",
        "\n",
        "The output will be based on our cell state, but will be a filtered version. \n",
        "First, we run a sigmoid layer which decides what parts of the cell state we’re going to output. \n",
        "\n",
        "Then, we put the cell state through tanh (to push the values to be (-1,1)) and multiply it by the output of the sigmoid gate, so that we only output the parts we decided to.\n",
        "\n",
        "Example of language model:  He is French, **She** is ...\n",
        "Since it just saw a subject, it might want to output information relevant to a verb, in case that’s what is coming next. For example, it might output whether the subject is singular or plural, so that we know what form a verb should be conjugated into if that’s what follows next.\n",
        "\n",
        "\n",
        "\n",
        "![alt text](https://colah.github.io/posts/2015-08-Understanding-LSTMs/img/LSTM3-focus-o.png =750x)"
      ]
    },
    {
      "cell_type": "code",
      "metadata": {
        "id": "MwazwwchSYdt",
        "colab": {
          "base_uri": "https://localhost:8080/",
          "height": 34
        },
        "outputId": "3889e569-bece-4a61-d8af-d65179d3b519"
      },
      "source": [
        "from numpy import array\n",
        "from keras.models import Sequential\n",
        "from keras.layers import Dense\n",
        "from keras.layers import SimpleRNN\n",
        "from keras.callbacks import ModelCheckpoint\n",
        "from sklearn.preprocessing import MinMaxScaler\n",
        "import math\n",
        "import numpy as np\n",
        "from sklearn.metrics import mean_squared_error\n",
        "import pandas as pd\n",
        "import matplotlib.pylab as plt\n",
        "%matplotlib inline\n",
        "from matplotlib.pylab import rcParams\n",
        "rcParams['figure.figsize'] = 15, 6\n",
        "rcParams['axes.titlesize'] = 'xx-large'\n",
        "rcParams['axes.titleweight'] = 'bold'\n",
        "rcParams[\"legend.loc\"] = 'upper left'"
      ],
      "execution_count": null,
      "outputs": [
        {
          "output_type": "stream",
          "text": [
            "Using TensorFlow backend.\n"
          ],
          "name": "stderr"
        }
      ]
    },
    {
      "cell_type": "markdown",
      "metadata": {
        "id": "D5upx2uGWUuZ"
      },
      "source": [
        "## Loading and Handling Time Series in Pandas"
      ]
    },
    {
      "cell_type": "code",
      "metadata": {
        "id": "C5VEAv30TDTo",
        "colab": {
          "base_uri": "https://localhost:8080/",
          "height": 395
        },
        "outputId": "6b3c04a3-d7c1-44bb-e06a-63bf50f80e60"
      },
      "source": [
        "url = 'https://raw.githubusercontent.com/AileenNielsen/TimeSeriesAnalysisWithPython/master/data/AirPassengers.csv'\n",
        "dateparse = lambda dates: pd.datetime.strptime(dates, '%Y-%m')\n",
        "data = pd.read_csv(url, parse_dates=['Month'], index_col='Month',date_parser=dateparse)\n",
        "data = data.astype('float64')\n",
        "plt.plot(data)"
      ],
      "execution_count": null,
      "outputs": [
        {
          "output_type": "execute_result",
          "data": {
            "text/plain": [
              "[<matplotlib.lines.Line2D at 0x7efc2bf60278>]"
            ]
          },
          "metadata": {
            "tags": []
          },
          "execution_count": 2
        },
        {
          "output_type": "display_data",
          "data": {
            "image/png": "[encoded data removed]",
            "text/plain": [
              "<Figure size 1080x432 with 1 Axes>"
            ]
          },
          "metadata": {
            "tags": []
          }
        }
      ]
    },
    {
      "cell_type": "markdown",
      "metadata": {
        "id": "j_62SwklWLpT"
      },
      "source": [
        "## Split a sequence into samples"
      ]
    },
    {
      "cell_type": "code",
      "metadata": {
        "id": "fjnJ0qaGSdDC"
      },
      "source": [
        "def split_sequence(sequence, n_steps):\n",
        "\tX, y = list(), list()\n",
        "\tfor i in range(len(sequence)):\n",
        "\t\t# find the end of this pattern\n",
        "\t\tend_ix = i + n_steps\n",
        "\t\t# check if we are beyond the sequence\n",
        "\t\tif end_ix > len(sequence)-1:\n",
        "\t\t\tbreak\n",
        "\t\t# gather input and output parts of the pattern\n",
        "\t\tseq_x, seq_y = sequence.iloc[i:end_ix].values, sequence.iloc[end_ix].values\n",
        "\t\tX.append(seq_x)\n",
        "\t\ty.append(seq_y)\n",
        "\treturn array(X), array(y)"
      ],
      "execution_count": null,
      "outputs": []
    },
    {
      "cell_type": "code",
      "metadata": {
        "id": "K618w8ZsSwvF",
        "colab": {
          "base_uri": "https://localhost:8080/",
          "height": 34
        },
        "outputId": "08ae9949-7e1e-4701-f66c-f83c74a27328"
      },
      "source": [
        "n_steps = 5\n",
        "X, y = split_sequence(data, n_steps)\n",
        "print ('(samples, timesteps, features): '+ str(X.shape))"
      ],
      "execution_count": null,
      "outputs": [
        {
          "output_type": "stream",
          "text": [
            "(samples, timesteps, features): (139, 5, 1)\n"
          ],
          "name": "stdout"
        }
      ]
    },
    {
      "cell_type": "markdown",
      "metadata": {
        "id": "S9Dtmpy1XwBS"
      },
      "source": [
        "### Split Dataset\n",
        "We can split the dataset into three parts.\n",
        "\n",
        "The first part is the training dataset that we will use to train our model. The second part is the validation part that we will use it to validate the perfromance of our model. The third part is the test dataset that we will pretend is not available. It is these time steps that we will treat as out of sample.\n",
        "\n",
        "The dataset contains data from January 1949 to December 1960.\n",
        "\n",
        "1. 1949 - 1957:**Training**\n",
        "2. 1958: **Validation**\n",
        "3. 1959 - 1960: **Test**"
      ]
    },
    {
      "cell_type": "code",
      "metadata": {
        "id": "gnn444yLXrCG",
        "colab": {
          "base_uri": "https://localhost:8080/",
          "height": 34
        },
        "outputId": "ed5d90fc-d9d3-43d3-87ad-623e86b2e6c1"
      },
      "source": [
        "X_train, y_train = X[:-36],y[:-36]\n",
        "X_valid, y_valid = X[-36:-24],y[-36:-24]\n",
        "X_test, y_test = X[-24:],y[-24:]\n",
        "print (X_train.shape,X_valid.shape,X_test.shape)"
      ],
      "execution_count": null,
      "outputs": [
        {
          "output_type": "stream",
          "text": [
            "(103, 5, 1) (12, 5, 1) (24, 5, 1)\n"
          ],
          "name": "stdout"
        }
      ]
    },
    {
      "cell_type": "markdown",
      "metadata": {
        "id": "RyIQeuguWz0S"
      },
      "source": [
        "## Build a SimpleRNN model"
      ]
    },
    {
      "cell_type": "code",
      "metadata": {
        "id": "0u30AYyZWFUb",
        "colab": {
          "base_uri": "https://localhost:8080/",
          "height": 88
        },
        "outputId": "cc9f8763-81f3-47fb-8fd3-5a373b6367ac"
      },
      "source": [
        "rnn = Sequential()\n",
        "rnn.add(SimpleRNN(50, activation='relu', input_shape=(n_steps, 1)))\n",
        "rnn.add(Dense(1))\n",
        "rnn.compile(optimizer='adam', loss='mse')"
      ],
      "execution_count": null,
      "outputs": [
        {
          "output_type": "stream",
          "text": [
            "WARNING:tensorflow:From /usr/local/lib/python3.6/dist-packages/tensorflow/python/framework/op_def_library.py:263: colocate_with (from tensorflow.python.framework.ops) is deprecated and will be removed in a future version.\n",
            "Instructions for updating:\n",
            "Colocations handled automatically by placer.\n"
          ],
          "name": "stdout"
        }
      ]
    },
    {
      "cell_type": "markdown",
      "metadata": {
        "id": "UyIvR8vecBas"
      },
      "source": [
        "## Train model and demonstrate prediction"
      ]
    },
    {
      "cell_type": "code",
      "metadata": {
        "id": "JFGc2ZQMcW6h",
        "colab": {
          "base_uri": "https://localhost:8080/",
          "height": 6922
        },
        "outputId": "fc83b355-29d7-4d01-e862-5df8d90e3136"
      },
      "source": [
        "rnn.fit(X_train, y_train, validation_data = (X_valid, y_valid), epochs=200, verbose=1)"
      ],
      "execution_count": null,
      "outputs": [
        {
          "output_type": "stream",
          "text": [
            "WARNING:tensorflow:From /usr/local/lib/python3.6/dist-packages/tensorflow/python/ops/math_ops.py:3066: to_int32 (from tensorflow.python.ops.math_ops) is deprecated and will be removed in a future version.\n",
            "Instructions for updating:\n",
            "Use tf.cast instead.\n",
            "Train on 103 samples, validate on 12 samples\n",
            "Epoch 1/200\n",
            "103/103 [==============================] - 0s 2ms/step - loss: 36704.0977 - val_loss: 65022.0820\n",
            "Epoch 2/200\n",
            "103/103 [==============================] - 0s 171us/step - loss: 23838.1126 - val_loss: 36081.7031\n",
            "Epoch 3/200\n",
            "103/103 [==============================] - 0s 157us/step - loss: 12432.4959 - val_loss: 14358.5830\n",
            "Epoch 4/200\n",
            "103/103 [==============================] - 0s 143us/step - loss: 3982.4453 - val_loss: 4954.2280\n",
            "Epoch 5/200\n",
            "103/103 [==============================] - 0s 130us/step - loss: 1621.4150 - val_loss: 9099.9014\n",
            "Epoch 6/200\n",
            "103/103 [==============================] - 0s 116us/step - loss: 3229.3022 - val_loss: 10305.4531\n",
            "Epoch 7/200\n",
            "103/103 [==============================] - 0s 121us/step - loss: 2817.4229 - val_loss: 6037.5249\n",
            "Epoch 8/200\n",
            "103/103 [==============================] - 0s 129us/step - loss: 1612.1563 - val_loss: 3955.4802\n",
            "Epoch 9/200\n",
            "103/103 [==============================] - 0s 118us/step - loss: 1173.5266 - val_loss: 4075.5947\n",
            "Epoch 10/200\n",
            "103/103 [==============================] - 0s 104us/step - loss: 1402.6246 - val_loss: 4220.6401\n",
            "Epoch 11/200\n",
            "103/103 [==============================] - 0s 110us/step - loss: 1432.9562 - val_loss: 3971.8464\n",
            "Epoch 12/200\n",
            "103/103 [==============================] - 0s 103us/step - loss: 1293.3792 - val_loss: 3770.5244\n",
            "Epoch 13/200\n",
            "103/103 [==============================] - 0s 109us/step - loss: 1180.4750 - val_loss: 3809.1858\n",
            "Epoch 14/200\n",
            "103/103 [==============================] - 0s 96us/step - loss: 1137.1575 - val_loss: 3857.1667\n",
            "Epoch 15/200\n",
            "103/103 [==============================] - 0s 113us/step - loss: 1142.0915 - val_loss: 3873.1843\n",
            "Epoch 16/200\n",
            "103/103 [==============================] - 0s 119us/step - loss: 1132.4056 - val_loss: 3798.7129\n",
            "Epoch 17/200\n",
            "103/103 [==============================] - 0s 124us/step - loss: 1126.2660 - val_loss: 3710.5029\n",
            "Epoch 18/200\n",
            "103/103 [==============================] - 0s 112us/step - loss: 1153.6284 - val_loss: 3673.8801\n",
            "Epoch 19/200\n",
            "103/103 [==============================] - 0s 152us/step - loss: 1133.8550 - val_loss: 3660.9111\n",
            "Epoch 20/200\n",
            "103/103 [==============================] - 0s 127us/step - loss: 1107.7584 - val_loss: 3733.8789\n",
            "Epoch 21/200\n",
            "103/103 [==============================] - 0s 125us/step - loss: 1099.1150 - val_loss: 3816.4639\n",
            "Epoch 22/200\n",
            "103/103 [==============================] - 0s 116us/step - loss: 1113.3138 - val_loss: 3913.3125\n",
            "Epoch 23/200\n",
            "103/103 [==============================] - 0s 129us/step - loss: 1141.1134 - val_loss: 3931.9026\n",
            "Epoch 24/200\n",
            "103/103 [==============================] - 0s 131us/step - loss: 1137.2836 - val_loss: 3755.2812\n",
            "Epoch 25/200\n",
            "103/103 [==============================] - 0s 121us/step - loss: 1088.1352 - val_loss: 3627.6484\n",
            "Epoch 26/200\n",
            "103/103 [==============================] - 0s 95us/step - loss: 1092.6568 - val_loss: 3538.0969\n",
            "Epoch 27/200\n",
            "103/103 [==============================] - 0s 106us/step - loss: 1079.5793 - val_loss: 3527.8789\n",
            "Epoch 28/200\n",
            "103/103 [==============================] - 0s 110us/step - loss: 1070.7230 - val_loss: 3552.3132\n",
            "Epoch 29/200\n",
            "103/103 [==============================] - 0s 121us/step - loss: 1062.4079 - val_loss: 3544.7883\n",
            "Epoch 30/200\n",
            "103/103 [==============================] - 0s 105us/step - loss: 1056.0828 - val_loss: 3587.1238\n",
            "Epoch 31/200\n",
            "103/103 [==============================] - 0s 99us/step - loss: 1065.0826 - val_loss: 3605.1511\n",
            "Epoch 32/200\n",
            "103/103 [==============================] - 0s 134us/step - loss: 1071.2546 - val_loss: 3633.0000\n",
            "Epoch 33/200\n",
            "103/103 [==============================] - 0s 135us/step - loss: 1067.9599 - val_loss: 3612.1780\n",
            "Epoch 34/200\n",
            "103/103 [==============================] - 0s 121us/step - loss: 1062.1880 - val_loss: 3497.6621\n",
            "Epoch 35/200\n",
            "103/103 [==============================] - 0s 111us/step - loss: 1037.1317 - val_loss: 3414.7910\n",
            "Epoch 36/200\n",
            "103/103 [==============================] - 0s 116us/step - loss: 1033.5079 - val_loss: 3378.5574\n",
            "Epoch 37/200\n",
            "103/103 [==============================] - 0s 97us/step - loss: 1038.1367 - val_loss: 3359.0725\n",
            "Epoch 38/200\n",
            "103/103 [==============================] - 0s 103us/step - loss: 1043.1297 - val_loss: 3341.9675\n",
            "Epoch 39/200\n",
            "103/103 [==============================] - 0s 154us/step - loss: 1033.5164 - val_loss: 3335.7903\n",
            "Epoch 40/200\n",
            "103/103 [==============================] - 0s 96us/step - loss: 1008.2400 - val_loss: 3417.2598\n",
            "Epoch 41/200\n",
            "103/103 [==============================] - 0s 141us/step - loss: 1019.6332 - val_loss: 3424.2012\n",
            "Epoch 42/200\n",
            "103/103 [==============================] - 0s 110us/step - loss: 1015.2472 - val_loss: 3357.5779\n",
            "Epoch 43/200\n",
            "103/103 [==============================] - 0s 116us/step - loss: 998.6190 - val_loss: 3260.3899\n",
            "Epoch 44/200\n",
            "103/103 [==============================] - 0s 116us/step - loss: 1013.6100 - val_loss: 3236.9856\n",
            "Epoch 45/200\n",
            "103/103 [==============================] - 0s 112us/step - loss: 1002.7089 - val_loss: 3243.6052\n",
            "Epoch 46/200\n",
            "103/103 [==============================] - 0s 106us/step - loss: 981.7390 - val_loss: 3296.4121\n",
            "Epoch 47/200\n",
            "103/103 [==============================] - 0s 114us/step - loss: 994.0329 - val_loss: 3340.0879\n",
            "Epoch 48/200\n",
            "103/103 [==============================] - 0s 100us/step - loss: 987.2980 - val_loss: 3212.2109\n",
            "Epoch 49/200\n",
            "103/103 [==============================] - 0s 115us/step - loss: 998.5716 - val_loss: 3215.2078\n",
            "Epoch 50/200\n",
            "103/103 [==============================] - 0s 112us/step - loss: 1053.0021 - val_loss: 3171.6365\n",
            "Epoch 51/200\n",
            "103/103 [==============================] - 0s 108us/step - loss: 1030.5193 - val_loss: 3294.2092\n",
            "Epoch 52/200\n",
            "103/103 [==============================] - 0s 99us/step - loss: 981.0953 - val_loss: 3260.8625\n",
            "Epoch 53/200\n",
            "103/103 [==============================] - 0s 121us/step - loss: 966.5680 - val_loss: 3139.0422\n",
            "Epoch 54/200\n",
            "103/103 [==============================] - 0s 121us/step - loss: 945.7473 - val_loss: 3109.0488\n",
            "Epoch 55/200\n",
            "103/103 [==============================] - 0s 126us/step - loss: 986.1275 - val_loss: 3113.5261\n",
            "Epoch 56/200\n",
            "103/103 [==============================] - 0s 105us/step - loss: 990.4239 - val_loss: 3084.2859\n",
            "Epoch 57/200\n",
            "103/103 [==============================] - 0s 114us/step - loss: 969.1159 - val_loss: 3072.3262\n",
            "Epoch 58/200\n",
            "103/103 [==============================] - 0s 162us/step - loss: 937.2327 - val_loss: 3133.7927\n",
            "Epoch 59/200\n",
            "103/103 [==============================] - 0s 107us/step - loss: 958.1355 - val_loss: 3191.1018\n",
            "Epoch 60/200\n",
            "103/103 [==============================] - 0s 100us/step - loss: 948.8838 - val_loss: 3065.8835\n",
            "Epoch 61/200\n",
            "103/103 [==============================] - 0s 110us/step - loss: 934.9452 - val_loss: 3023.0691\n",
            "Epoch 62/200\n",
            "103/103 [==============================] - 0s 124us/step - loss: 947.2509 - val_loss: 3007.0066\n",
            "Epoch 63/200\n",
            "103/103 [==============================] - 0s 112us/step - loss: 933.5011 - val_loss: 3004.9539\n",
            "Epoch 64/200\n",
            "103/103 [==============================] - 0s 156us/step - loss: 933.2901 - val_loss: 3027.4121\n",
            "Epoch 65/200\n",
            "103/103 [==============================] - 0s 125us/step - loss: 925.5353 - val_loss: 3043.4739\n",
            "Epoch 66/200\n",
            "103/103 [==============================] - 0s 113us/step - loss: 918.6498 - val_loss: 2977.0012\n",
            "Epoch 67/200\n",
            "103/103 [==============================] - 0s 117us/step - loss: 908.0375 - val_loss: 2942.9138\n",
            "Epoch 68/200\n",
            "103/103 [==============================] - 0s 128us/step - loss: 915.6790 - val_loss: 2926.0215\n",
            "Epoch 69/200\n",
            "103/103 [==============================] - 0s 109us/step - loss: 904.8665 - val_loss: 2953.5808\n",
            "Epoch 70/200\n",
            "103/103 [==============================] - 0s 104us/step - loss: 899.8132 - val_loss: 2980.6482\n",
            "Epoch 71/200\n",
            "103/103 [==============================] - 0s 92us/step - loss: 911.5366 - val_loss: 2935.5178\n",
            "Epoch 72/200\n",
            "103/103 [==============================] - 0s 94us/step - loss: 894.3019 - val_loss: 2982.6055\n",
            "Epoch 73/200\n",
            "103/103 [==============================] - 0s 111us/step - loss: 901.6600 - val_loss: 2902.5344\n",
            "Epoch 74/200\n",
            "103/103 [==============================] - 0s 107us/step - loss: 887.1094 - val_loss: 2910.2214\n",
            "Epoch 75/200\n",
            "103/103 [==============================] - 0s 100us/step - loss: 884.7359 - val_loss: 2887.0378\n",
            "Epoch 76/200\n",
            "103/103 [==============================] - 0s 105us/step - loss: 883.8367 - val_loss: 2887.4646\n",
            "Epoch 77/200\n",
            "103/103 [==============================] - 0s 110us/step - loss: 896.1896 - val_loss: 2846.8606\n",
            "Epoch 78/200\n",
            "103/103 [==============================] - 0s 107us/step - loss: 886.9797 - val_loss: 2933.4871\n",
            "Epoch 79/200\n",
            "103/103 [==============================] - 0s 112us/step - loss: 876.8919 - val_loss: 2821.0742\n",
            "Epoch 80/200\n",
            "103/103 [==============================] - 0s 123us/step - loss: 867.4222 - val_loss: 2778.9895\n",
            "Epoch 81/200\n",
            "103/103 [==============================] - 0s 120us/step - loss: 887.6544 - val_loss: 2771.2239\n",
            "Epoch 82/200\n",
            "103/103 [==============================] - 0s 114us/step - loss: 870.1541 - val_loss: 2792.9434\n",
            "Epoch 83/200\n",
            "103/103 [==============================] - 0s 103us/step - loss: 877.7711 - val_loss: 2950.6931\n",
            "Epoch 84/200\n",
            "103/103 [==============================] - 0s 115us/step - loss: 874.1257 - val_loss: 2810.5940\n",
            "Epoch 85/200\n",
            "103/103 [==============================] - 0s 107us/step - loss: 861.8319 - val_loss: 2732.4172\n",
            "Epoch 86/200\n",
            "103/103 [==============================] - 0s 100us/step - loss: 856.8330 - val_loss: 2719.7886\n",
            "Epoch 87/200\n",
            "103/103 [==============================] - 0s 114us/step - loss: 842.7347 - val_loss: 2756.2942\n",
            "Epoch 88/200\n",
            "103/103 [==============================] - 0s 98us/step - loss: 841.2664 - val_loss: 2770.6873\n",
            "Epoch 89/200\n",
            "103/103 [==============================] - 0s 127us/step - loss: 843.1969 - val_loss: 2716.1062\n",
            "Epoch 90/200\n",
            "103/103 [==============================] - 0s 98us/step - loss: 835.2585 - val_loss: 2699.8396\n",
            "Epoch 91/200\n",
            "103/103 [==============================] - 0s 120us/step - loss: 859.1198 - val_loss: 2695.9358\n",
            "Epoch 92/200\n",
            "103/103 [==============================] - 0s 129us/step - loss: 848.3974 - val_loss: 2673.9607\n",
            "Epoch 93/200\n",
            "103/103 [==============================] - 0s 112us/step - loss: 829.2790 - val_loss: 2662.4744\n",
            "Epoch 94/200\n",
            "103/103 [==============================] - 0s 110us/step - loss: 830.6941 - val_loss: 2642.3596\n",
            "Epoch 95/200\n",
            "103/103 [==============================] - 0s 118us/step - loss: 816.0293 - val_loss: 2666.0129\n",
            "Epoch 96/200\n",
            "103/103 [==============================] - 0s 168us/step - loss: 822.0927 - val_loss: 2729.0632\n",
            "Epoch 97/200\n",
            "103/103 [==============================] - 0s 158us/step - loss: 823.0721 - val_loss: 2647.0076\n",
            "Epoch 98/200\n",
            "103/103 [==============================] - 0s 149us/step - loss: 800.9090 - val_loss: 2585.2932\n",
            "Epoch 99/200\n",
            "103/103 [==============================] - 0s 121us/step - loss: 882.6427 - val_loss: 2630.6746\n",
            "Epoch 100/200\n",
            "103/103 [==============================] - 0s 112us/step - loss: 861.9491 - val_loss: 2588.3923\n",
            "Epoch 101/200\n",
            "103/103 [==============================] - 0s 102us/step - loss: 799.9954 - val_loss: 2675.6519\n",
            "Epoch 102/200\n",
            "103/103 [==============================] - 0s 107us/step - loss: 820.3632 - val_loss: 2715.2283\n",
            "Epoch 103/200\n",
            "103/103 [==============================] - 0s 128us/step - loss: 819.2329 - val_loss: 2603.8743\n",
            "Epoch 104/200\n",
            "103/103 [==============================] - 0s 101us/step - loss: 794.6406 - val_loss: 2518.3601\n",
            "Epoch 105/200\n",
            "103/103 [==============================] - 0s 128us/step - loss: 791.3816 - val_loss: 2505.2227\n",
            "Epoch 106/200\n",
            "103/103 [==============================] - 0s 114us/step - loss: 794.0616 - val_loss: 2503.1670\n",
            "Epoch 107/200\n",
            "103/103 [==============================] - 0s 136us/step - loss: 806.0438 - val_loss: 2504.0190\n",
            "Epoch 108/200\n",
            "103/103 [==============================] - 0s 111us/step - loss: 795.4914 - val_loss: 2667.0029\n",
            "Epoch 109/200\n",
            "103/103 [==============================] - 0s 118us/step - loss: 815.8824 - val_loss: 2662.4661\n",
            "Epoch 110/200\n",
            "103/103 [==============================] - 0s 104us/step - loss: 806.1185 - val_loss: 2475.1707\n",
            "Epoch 111/200\n",
            "103/103 [==============================] - 0s 126us/step - loss: 802.9509 - val_loss: 2441.5823\n",
            "Epoch 112/200\n",
            "103/103 [==============================] - 0s 115us/step - loss: 786.7153 - val_loss: 2430.7659\n",
            "Epoch 113/200\n",
            "103/103 [==============================] - 0s 146us/step - loss: 776.0321 - val_loss: 2496.5725\n",
            "Epoch 114/200\n",
            "103/103 [==============================] - 0s 182us/step - loss: 785.7164 - val_loss: 2503.7676\n",
            "Epoch 115/200\n",
            "103/103 [==============================] - 0s 157us/step - loss: 760.3022 - val_loss: 2423.7537\n",
            "Epoch 116/200\n",
            "103/103 [==============================] - 0s 124us/step - loss: 781.2115 - val_loss: 2423.5212\n",
            "Epoch 117/200\n",
            "103/103 [==============================] - 0s 133us/step - loss: 762.8530 - val_loss: 2489.5623\n",
            "Epoch 118/200\n",
            "103/103 [==============================] - 0s 109us/step - loss: 773.6983 - val_loss: 2567.7966\n",
            "Epoch 119/200\n",
            "103/103 [==============================] - 0s 108us/step - loss: 780.8387 - val_loss: 2485.9919\n",
            "Epoch 120/200\n",
            "103/103 [==============================] - 0s 101us/step - loss: 764.4032 - val_loss: 2397.8958\n",
            "Epoch 121/200\n",
            "103/103 [==============================] - 0s 116us/step - loss: 761.6959 - val_loss: 2356.0771\n",
            "Epoch 122/200\n",
            "103/103 [==============================] - 0s 153us/step - loss: 761.8973 - val_loss: 2366.1614\n",
            "Epoch 123/200\n",
            "103/103 [==============================] - 0s 111us/step - loss: 761.5224 - val_loss: 2385.6318\n",
            "Epoch 124/200\n",
            "103/103 [==============================] - 0s 124us/step - loss: 750.1005 - val_loss: 2375.7192\n",
            "Epoch 125/200\n",
            "103/103 [==============================] - 0s 112us/step - loss: 789.0394 - val_loss: 2356.1936\n",
            "Epoch 126/200\n",
            "103/103 [==============================] - 0s 120us/step - loss: 731.2717 - val_loss: 2425.1096\n",
            "Epoch 127/200\n",
            "103/103 [==============================] - 0s 116us/step - loss: 793.9343 - val_loss: 2577.4172\n",
            "Epoch 128/200\n",
            "103/103 [==============================] - 0s 107us/step - loss: 774.9221 - val_loss: 2354.0029\n",
            "Epoch 129/200\n",
            "103/103 [==============================] - 0s 98us/step - loss: 744.2520 - val_loss: 2289.7927\n",
            "Epoch 130/200\n",
            "103/103 [==============================] - 0s 107us/step - loss: 731.9688 - val_loss: 2319.9514\n",
            "Epoch 131/200\n",
            "103/103 [==============================] - 0s 110us/step - loss: 732.5728 - val_loss: 2306.8530\n",
            "Epoch 132/200\n",
            "103/103 [==============================] - 0s 121us/step - loss: 727.3974 - val_loss: 2321.0300\n",
            "Epoch 133/200\n",
            "103/103 [==============================] - 0s 149us/step - loss: 731.7242 - val_loss: 2322.8894\n",
            "Epoch 134/200\n",
            "103/103 [==============================] - 0s 105us/step - loss: 724.9899 - val_loss: 2272.1936\n",
            "Epoch 135/200\n",
            "103/103 [==============================] - 0s 176us/step - loss: 721.2005 - val_loss: 2271.6799\n",
            "Epoch 136/200\n",
            "103/103 [==============================] - 0s 112us/step - loss: 723.5199 - val_loss: 2279.3765\n",
            "Epoch 137/200\n",
            "103/103 [==============================] - 0s 123us/step - loss: 729.1595 - val_loss: 2465.6287\n",
            "Epoch 138/200\n",
            "103/103 [==============================] - 0s 150us/step - loss: 791.1303 - val_loss: 2497.7180\n",
            "Epoch 139/200\n",
            "103/103 [==============================] - 0s 122us/step - loss: 762.6681 - val_loss: 2225.3879\n",
            "Epoch 140/200\n",
            "103/103 [==============================] - 0s 113us/step - loss: 712.4414 - val_loss: 2210.2783\n",
            "Epoch 141/200\n",
            "103/103 [==============================] - 0s 130us/step - loss: 727.7316 - val_loss: 2204.5427\n",
            "Epoch 142/200\n",
            "103/103 [==============================] - 0s 153us/step - loss: 721.6736 - val_loss: 2193.2507\n",
            "Epoch 143/200\n",
            "103/103 [==============================] - 0s 142us/step - loss: 715.7641 - val_loss: 2233.4299\n",
            "Epoch 144/200\n",
            "103/103 [==============================] - 0s 114us/step - loss: 703.9499 - val_loss: 2257.0769\n",
            "Epoch 145/200\n",
            "103/103 [==============================] - 0s 143us/step - loss: 706.0252 - val_loss: 2233.8943\n",
            "Epoch 146/200\n",
            "103/103 [==============================] - 0s 113us/step - loss: 702.0831 - val_loss: 2174.9243\n",
            "Epoch 147/200\n",
            "103/103 [==============================] - 0s 141us/step - loss: 701.9445 - val_loss: 2151.5791\n",
            "Epoch 148/200\n",
            "103/103 [==============================] - 0s 128us/step - loss: 701.6627 - val_loss: 2152.0730\n",
            "Epoch 149/200\n",
            "103/103 [==============================] - 0s 107us/step - loss: 716.4725 - val_loss: 2185.0010\n",
            "Epoch 150/200\n",
            "103/103 [==============================] - 0s 103us/step - loss: 692.8739 - val_loss: 2140.3035\n",
            "Epoch 151/200\n",
            "103/103 [==============================] - 0s 118us/step - loss: 693.2598 - val_loss: 2144.8840\n",
            "Epoch 152/200\n",
            "103/103 [==============================] - 0s 110us/step - loss: 688.6768 - val_loss: 2169.7119\n",
            "Epoch 153/200\n",
            "103/103 [==============================] - 0s 125us/step - loss: 709.9290 - val_loss: 2173.2947\n",
            "Epoch 154/200\n",
            "103/103 [==============================] - 0s 115us/step - loss: 692.8113 - val_loss: 2103.3523\n",
            "Epoch 155/200\n",
            "103/103 [==============================] - 0s 97us/step - loss: 695.5742 - val_loss: 2098.9041\n",
            "Epoch 156/200\n",
            "103/103 [==============================] - 0s 108us/step - loss: 680.6972 - val_loss: 2125.0881\n",
            "Epoch 157/200\n",
            "103/103 [==============================] - 0s 130us/step - loss: 685.0995 - val_loss: 2092.0125\n",
            "Epoch 158/200\n",
            "103/103 [==============================] - 0s 185us/step - loss: 675.4092 - val_loss: 2087.7654\n",
            "Epoch 159/200\n",
            "103/103 [==============================] - 0s 111us/step - loss: 678.5009 - val_loss: 2121.9172\n",
            "Epoch 160/200\n",
            "103/103 [==============================] - 0s 105us/step - loss: 675.7953 - val_loss: 2118.2773\n",
            "Epoch 161/200\n",
            "103/103 [==============================] - 0s 112us/step - loss: 676.5200 - val_loss: 2126.8518\n",
            "Epoch 162/200\n",
            "103/103 [==============================] - 0s 85us/step - loss: 667.7999 - val_loss: 2052.0291\n",
            "Epoch 163/200\n",
            "103/103 [==============================] - 0s 92us/step - loss: 680.8226 - val_loss: 2066.3318\n",
            "Epoch 164/200\n",
            "103/103 [==============================] - 0s 88us/step - loss: 692.1739 - val_loss: 2099.0771\n",
            "Epoch 165/200\n",
            "103/103 [==============================] - 0s 88us/step - loss: 668.4534 - val_loss: 2100.1438\n",
            "Epoch 166/200\n",
            "103/103 [==============================] - 0s 93us/step - loss: 668.5047 - val_loss: 2052.4580\n",
            "Epoch 167/200\n",
            "103/103 [==============================] - 0s 101us/step - loss: 662.3447 - val_loss: 2021.5068\n",
            "Epoch 168/200\n",
            "103/103 [==============================] - 0s 92us/step - loss: 672.8972 - val_loss: 2004.6035\n",
            "Epoch 169/200\n",
            "103/103 [==============================] - 0s 149us/step - loss: 656.7072 - val_loss: 2019.6055\n",
            "Epoch 170/200\n",
            "103/103 [==============================] - 0s 138us/step - loss: 655.8323 - val_loss: 2041.8246\n",
            "Epoch 171/200\n",
            "103/103 [==============================] - 0s 110us/step - loss: 658.8714 - val_loss: 1989.3873\n",
            "Epoch 172/200\n",
            "103/103 [==============================] - 0s 106us/step - loss: 648.4824 - val_loss: 1995.5498\n",
            "Epoch 173/200\n",
            "103/103 [==============================] - 0s 122us/step - loss: 657.6277 - val_loss: 2001.9633\n",
            "Epoch 174/200\n",
            "103/103 [==============================] - 0s 96us/step - loss: 658.1468 - val_loss: 1980.8076\n",
            "Epoch 175/200\n",
            "103/103 [==============================] - 0s 88us/step - loss: 655.4292 - val_loss: 1979.9562\n",
            "Epoch 176/200\n",
            "103/103 [==============================] - 0s 124us/step - loss: 643.7790 - val_loss: 2042.3920\n",
            "Epoch 177/200\n",
            "103/103 [==============================] - 0s 109us/step - loss: 647.5202 - val_loss: 1993.5275\n",
            "Epoch 178/200\n",
            "103/103 [==============================] - 0s 120us/step - loss: 640.5917 - val_loss: 1981.3037\n",
            "Epoch 179/200\n",
            "103/103 [==============================] - 0s 102us/step - loss: 642.0499 - val_loss: 1956.2289\n",
            "Epoch 180/200\n",
            "103/103 [==============================] - 0s 100us/step - loss: 643.9555 - val_loss: 2032.1035\n",
            "Epoch 181/200\n",
            "103/103 [==============================] - 0s 95us/step - loss: 655.0637 - val_loss: 1948.3715\n",
            "Epoch 182/200\n",
            "103/103 [==============================] - 0s 97us/step - loss: 647.1680 - val_loss: 2099.1375\n",
            "Epoch 183/200\n",
            "103/103 [==============================] - 0s 90us/step - loss: 718.7956 - val_loss: 1928.2640\n",
            "Epoch 184/200\n",
            "103/103 [==============================] - 0s 127us/step - loss: 628.1080 - val_loss: 2094.5315\n",
            "Epoch 185/200\n",
            "103/103 [==============================] - 0s 95us/step - loss: 670.0794 - val_loss: 2057.0564\n",
            "Epoch 186/200\n",
            "103/103 [==============================] - 0s 98us/step - loss: 652.0063 - val_loss: 1953.5400\n",
            "Epoch 187/200\n",
            "103/103 [==============================] - 0s 96us/step - loss: 626.8830 - val_loss: 1892.6855\n",
            "Epoch 188/200\n",
            "103/103 [==============================] - 0s 98us/step - loss: 644.1181 - val_loss: 1898.9214\n",
            "Epoch 189/200\n",
            "103/103 [==============================] - 0s 89us/step - loss: 641.8745 - val_loss: 1880.9331\n",
            "Epoch 190/200\n",
            "103/103 [==============================] - 0s 101us/step - loss: 640.0787 - val_loss: 1878.3431\n",
            "Epoch 191/200\n",
            "103/103 [==============================] - 0s 101us/step - loss: 634.8142 - val_loss: 1928.3906\n",
            "Epoch 192/200\n",
            "103/103 [==============================] - 0s 122us/step - loss: 648.8113 - val_loss: 1862.1649\n",
            "Epoch 193/200\n",
            "103/103 [==============================] - 0s 96us/step - loss: 665.1239 - val_loss: 2257.3679\n",
            "Epoch 194/200\n",
            "103/103 [==============================] - 0s 120us/step - loss: 705.1994 - val_loss: 1941.9406\n",
            "Epoch 195/200\n",
            "103/103 [==============================] - 0s 99us/step - loss: 631.8597 - val_loss: 1877.3857\n",
            "Epoch 196/200\n",
            "103/103 [==============================] - 0s 91us/step - loss: 649.5140 - val_loss: 1835.4564\n",
            "Epoch 197/200\n",
            "103/103 [==============================] - 0s 87us/step - loss: 616.2595 - val_loss: 1827.7471\n",
            "Epoch 198/200\n",
            "103/103 [==============================] - 0s 116us/step - loss: 613.4788 - val_loss: 1930.0563\n",
            "Epoch 199/200\n",
            "103/103 [==============================] - 0s 130us/step - loss: 620.3498 - val_loss: 1827.7974\n",
            "Epoch 200/200\n",
            "103/103 [==============================] - 0s 107us/step - loss: 607.2627 - val_loss: 1880.7784\n"
          ],
          "name": "stdout"
        },
        {
          "output_type": "execute_result",
          "data": {
            "text/plain": [
              "<keras.callbacks.History at 0x7efc46ea6ac8>"
            ]
          },
          "metadata": {
            "tags": []
          },
          "execution_count": 7
        }
      ]
    },
    {
      "cell_type": "code",
      "metadata": {
        "id": "u88H2zU4co4e",
        "colab": {
          "base_uri": "https://localhost:8080/",
          "height": 34
        },
        "outputId": "b0ffde39-2b5a-43df-e4ee-48aabae14321"
      },
      "source": [
        "# make predictions\n",
        "predict = rnn.predict(X_test)\n",
        "# calculate root mean squared error\n",
        "testScore = math.sqrt(mean_squared_error(y_test, predict))\n",
        "print('Test Score: %.2f RMSE' % (testScore))"
      ],
      "execution_count": null,
      "outputs": [
        {
          "output_type": "stream",
          "text": [
            "Test Score: 50.35 RMSE\n"
          ],
          "name": "stdout"
        }
      ]
    },
    {
      "cell_type": "code",
      "metadata": {
        "id": "Qp4mwBaBc49Q",
        "colab": {
          "base_uri": "https://localhost:8080/",
          "height": 378
        },
        "outputId": "dd7a7785-6b8a-4218-beee-d50352479b4b"
      },
      "source": [
        "\n",
        "predict_plot = pd.DataFrame(predict,index=data.index[-24:])\n",
        "plt.plot(data)\n",
        "plt.plot(predict_plot)\n",
        "plt.show()"
      ],
      "execution_count": null,
      "outputs": [
        {
          "output_type": "display_data",
          "data": {
            "image/png": "[encoded data removed]",
            "text/plain": [
              "<Figure size 1080x432 with 1 Axes>"
            ]
          },
          "metadata": {
            "tags": []
          }
        }
      ]
    }
  ]
}